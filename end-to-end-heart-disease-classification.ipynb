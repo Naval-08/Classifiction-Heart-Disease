{
 "cells": [
  {
   "cell_type": "markdown",
   "id": "08fb8c1b",
   "metadata": {},
   "source": [
    "# Predicting heart disease using machine learning\n",
    "we going to make the following approch:\n",
    "1. Problem Statement\n",
    "2. Data\n",
    "3. Evaluation\n",
    "4. Features\n",
    "5. Modelling\n",
    "6. Experimentation\n",
    "\n",
    "# 1.Problem Defination\n",
    "In a statement\n",
    "> Given clinical parameters about a patient,can we predict wheather or not they have heart disease?\n",
    "# 2.Data\n",
    "The original data came from cleaverland data from the UCI machine learning repository.\n",
    "\n",
    "# 3.Evaluation\n",
    "\n",
    ">If we can reach 95% accuracy at predicting wheather or not a patient has heart disease during the proff of concdpt , we'll presuethe project\n",
    "\n",
    "# 4. Features\n",
    "This is where you'll get different information about each of the features in your data. You can do this via doing your own research (such as looking at the links above) or by talking to a subject matter expert (someone who knows about the dataset).\n",
    "\n",
    "Create data dictionary\n",
    "\n",
    "1. age - age in years\n",
    "2. sex - (1 = male; 0 = female)\n",
    "3. cp - chest pain type\n",
    "   *  Typical angina: chest pain related decrease blood supply to the heart\n",
    "   *  Atypical angina: chest pain not related to heart\n",
    "   *  Non-anginal pain: typically esophageal spasms (non heart related)\n",
    "3.  Asymptomatic: chest pain not showing signs of disease\n",
    "trestbps - resting blood pressure (in mm Hg on admission to the hospital) anything above 130-140 is typically cause for concern\n",
    "chol - serum cholestoral in mg/dl\n",
    "serum = LDL + HDL + .2 * triglycerides\n",
    "above 200 is cause for concern\n",
    "fbs - (fasting blood sugar > 120 mg/dl) (1 = true; 0 = false)\n",
    "'>126' mg/dL signals diabetes\n",
    "restecg - resting electrocardiographic results\n",
    "0: Nothing to note\n",
    "1: ST-T Wave abnormality\n",
    "can range from mild symptoms to severe problems\n",
    "signals non-normal heart beat\n",
    "2: Possible or definite left ventricular hypertrophy.\n",
    "thalach - maximum heart rate achieved\n",
    "exang - exercise induced angina (1 = yes; 0 = no)\n",
    "oldpeak - ST depression induced by exercise relative to rest looks at stress of heart during excercise unhealthy heart will stress more\n",
    "slope - the slope of the peak exercise ST segment\n",
    "0: Upsloping: better heart rate with excercise (uncommon)\n",
    "1: Flatsloping: minimal change (typical healthy heart)\n",
    "2: Downslopins: signs of unhealthy heart\n",
    "ca - number of major vessels (0-3) colored by flourosopy\n",
    "colored vessel means the doctor can see the blood passing through\n",
    "the more blood movement the better (no clots)\n",
    "thal - thalium stress result\n",
    "1,3: normal\n",
    "6: fixed defect: used to be defect but ok now\n",
    "7: reversable defect: no proper blood movement when excercising\n",
    "target - have disease or not (1=yes, 0=no) (= the predicted attribute)\n"
   ]
  },
  {
   "cell_type": "code",
   "execution_count": 1,
   "id": "d1bc7e3a",
   "metadata": {},
   "outputs": [],
   "source": [
    "import pandas as pd\n",
    "import numpy as np\n",
    "import matplotlib.pyplot as plt\n",
    "import seaborn as sns\n",
    "\n",
    "   # we want plots to appear  in the notebook\n",
    "%matplotlib inline\n",
    "#  models from sklearn\n",
    "\n",
    "from sklearn.linear_model import LogisticRegression\n",
    "from sklearn.neighbors import KNeighborsClassifier\n",
    "from sklearn.ensemble import RandomForestClassifier\n",
    "\n",
    "# Models for evaluation\n",
    "\n",
    "from sklearn.model_selection import train_test_split,cross_val_score\n",
    "from sklearn.model_selection import RandomizedSearchCV,GridSearchCV\n",
    "from sklearn.metrics import confusion_matrix,classification_report\n",
    "from sklearn.metrics import precision_score,recall_score,f1_score\n",
    "from sklearn.metrics import plot_roc_curve"
   ]
  },
  {
   "cell_type": "markdown",
   "id": "1837da68",
   "metadata": {},
   "source": [
    "## Load Data"
   ]
  },
  {
   "cell_type": "code",
   "execution_count": 2,
   "id": "6fc3588d",
   "metadata": {},
   "outputs": [
    {
     "data": {
      "text/plain": [
       "(303, 14)"
      ]
     },
     "execution_count": 2,
     "metadata": {},
     "output_type": "execute_result"
    }
   ],
   "source": [
    "df = pd.read_csv('data/heart-disease.csv')\n",
    "df.shape"
   ]
  },
  {
   "cell_type": "markdown",
   "id": "b2c230bd",
   "metadata": {},
   "source": [
    "## Data Exploration (exploratory data analysis or EDA)\n",
    "The goal here is to find out more about the data and become a subject matter export on the dataset you're working with.\n",
    "\n",
    "1. What question(s) are you trying to solve?\n",
    "2. What kind of data do we have and how do we treat different types?\n",
    "3. What's missing from the data and how do you deal with it?\n",
    "4. Where are the outliers and why should you care about them?\n",
    "5. How can you add, change or remove features to get more out of your data?"
   ]
  },
  {
   "cell_type": "code",
   "execution_count": 3,
   "id": "fd9cf6e7",
   "metadata": {},
   "outputs": [
    {
     "data": {
      "text/html": [
       "<div>\n",
       "<style scoped>\n",
       "    .dataframe tbody tr th:only-of-type {\n",
       "        vertical-align: middle;\n",
       "    }\n",
       "\n",
       "    .dataframe tbody tr th {\n",
       "        vertical-align: top;\n",
       "    }\n",
       "\n",
       "    .dataframe thead th {\n",
       "        text-align: right;\n",
       "    }\n",
       "</style>\n",
       "<table border=\"1\" class=\"dataframe\">\n",
       "  <thead>\n",
       "    <tr style=\"text-align: right;\">\n",
       "      <th></th>\n",
       "      <th>age</th>\n",
       "      <th>sex</th>\n",
       "      <th>cp</th>\n",
       "      <th>trestbps</th>\n",
       "      <th>chol</th>\n",
       "      <th>fbs</th>\n",
       "      <th>restecg</th>\n",
       "      <th>thalach</th>\n",
       "      <th>exang</th>\n",
       "      <th>oldpeak</th>\n",
       "      <th>slope</th>\n",
       "      <th>ca</th>\n",
       "      <th>thal</th>\n",
       "      <th>target</th>\n",
       "    </tr>\n",
       "  </thead>\n",
       "  <tbody>\n",
       "    <tr>\n",
       "      <th>0</th>\n",
       "      <td>63</td>\n",
       "      <td>1</td>\n",
       "      <td>3</td>\n",
       "      <td>145</td>\n",
       "      <td>233</td>\n",
       "      <td>1</td>\n",
       "      <td>0</td>\n",
       "      <td>150</td>\n",
       "      <td>0</td>\n",
       "      <td>2.3</td>\n",
       "      <td>0</td>\n",
       "      <td>0</td>\n",
       "      <td>1</td>\n",
       "      <td>1</td>\n",
       "    </tr>\n",
       "    <tr>\n",
       "      <th>1</th>\n",
       "      <td>37</td>\n",
       "      <td>1</td>\n",
       "      <td>2</td>\n",
       "      <td>130</td>\n",
       "      <td>250</td>\n",
       "      <td>0</td>\n",
       "      <td>1</td>\n",
       "      <td>187</td>\n",
       "      <td>0</td>\n",
       "      <td>3.5</td>\n",
       "      <td>0</td>\n",
       "      <td>0</td>\n",
       "      <td>2</td>\n",
       "      <td>1</td>\n",
       "    </tr>\n",
       "    <tr>\n",
       "      <th>2</th>\n",
       "      <td>41</td>\n",
       "      <td>0</td>\n",
       "      <td>1</td>\n",
       "      <td>130</td>\n",
       "      <td>204</td>\n",
       "      <td>0</td>\n",
       "      <td>0</td>\n",
       "      <td>172</td>\n",
       "      <td>0</td>\n",
       "      <td>1.4</td>\n",
       "      <td>2</td>\n",
       "      <td>0</td>\n",
       "      <td>2</td>\n",
       "      <td>1</td>\n",
       "    </tr>\n",
       "    <tr>\n",
       "      <th>3</th>\n",
       "      <td>56</td>\n",
       "      <td>1</td>\n",
       "      <td>1</td>\n",
       "      <td>120</td>\n",
       "      <td>236</td>\n",
       "      <td>0</td>\n",
       "      <td>1</td>\n",
       "      <td>178</td>\n",
       "      <td>0</td>\n",
       "      <td>0.8</td>\n",
       "      <td>2</td>\n",
       "      <td>0</td>\n",
       "      <td>2</td>\n",
       "      <td>1</td>\n",
       "    </tr>\n",
       "    <tr>\n",
       "      <th>4</th>\n",
       "      <td>57</td>\n",
       "      <td>0</td>\n",
       "      <td>0</td>\n",
       "      <td>120</td>\n",
       "      <td>354</td>\n",
       "      <td>0</td>\n",
       "      <td>1</td>\n",
       "      <td>163</td>\n",
       "      <td>1</td>\n",
       "      <td>0.6</td>\n",
       "      <td>2</td>\n",
       "      <td>0</td>\n",
       "      <td>2</td>\n",
       "      <td>1</td>\n",
       "    </tr>\n",
       "  </tbody>\n",
       "</table>\n",
       "</div>"
      ],
      "text/plain": [
       "   age  sex  cp  trestbps  chol  fbs  restecg  thalach  exang  oldpeak  slope  \\\n",
       "0   63    1   3       145   233    1        0      150      0      2.3      0   \n",
       "1   37    1   2       130   250    0        1      187      0      3.5      0   \n",
       "2   41    0   1       130   204    0        0      172      0      1.4      2   \n",
       "3   56    1   1       120   236    0        1      178      0      0.8      2   \n",
       "4   57    0   0       120   354    0        1      163      1      0.6      2   \n",
       "\n",
       "   ca  thal  target  \n",
       "0   0     1       1  \n",
       "1   0     2       1  \n",
       "2   0     2       1  \n",
       "3   0     2       1  \n",
       "4   0     2       1  "
      ]
     },
     "execution_count": 3,
     "metadata": {},
     "output_type": "execute_result"
    }
   ],
   "source": [
    "df.head()"
   ]
  },
  {
   "cell_type": "code",
   "execution_count": 4,
   "id": "c9a0d825",
   "metadata": {},
   "outputs": [
    {
     "data": {
      "text/html": [
       "<div>\n",
       "<style scoped>\n",
       "    .dataframe tbody tr th:only-of-type {\n",
       "        vertical-align: middle;\n",
       "    }\n",
       "\n",
       "    .dataframe tbody tr th {\n",
       "        vertical-align: top;\n",
       "    }\n",
       "\n",
       "    .dataframe thead th {\n",
       "        text-align: right;\n",
       "    }\n",
       "</style>\n",
       "<table border=\"1\" class=\"dataframe\">\n",
       "  <thead>\n",
       "    <tr style=\"text-align: right;\">\n",
       "      <th></th>\n",
       "      <th>age</th>\n",
       "      <th>sex</th>\n",
       "      <th>cp</th>\n",
       "      <th>trestbps</th>\n",
       "      <th>chol</th>\n",
       "      <th>fbs</th>\n",
       "      <th>restecg</th>\n",
       "      <th>thalach</th>\n",
       "      <th>exang</th>\n",
       "      <th>oldpeak</th>\n",
       "      <th>slope</th>\n",
       "      <th>ca</th>\n",
       "      <th>thal</th>\n",
       "      <th>target</th>\n",
       "    </tr>\n",
       "  </thead>\n",
       "  <tbody>\n",
       "    <tr>\n",
       "      <th>298</th>\n",
       "      <td>57</td>\n",
       "      <td>0</td>\n",
       "      <td>0</td>\n",
       "      <td>140</td>\n",
       "      <td>241</td>\n",
       "      <td>0</td>\n",
       "      <td>1</td>\n",
       "      <td>123</td>\n",
       "      <td>1</td>\n",
       "      <td>0.2</td>\n",
       "      <td>1</td>\n",
       "      <td>0</td>\n",
       "      <td>3</td>\n",
       "      <td>0</td>\n",
       "    </tr>\n",
       "    <tr>\n",
       "      <th>299</th>\n",
       "      <td>45</td>\n",
       "      <td>1</td>\n",
       "      <td>3</td>\n",
       "      <td>110</td>\n",
       "      <td>264</td>\n",
       "      <td>0</td>\n",
       "      <td>1</td>\n",
       "      <td>132</td>\n",
       "      <td>0</td>\n",
       "      <td>1.2</td>\n",
       "      <td>1</td>\n",
       "      <td>0</td>\n",
       "      <td>3</td>\n",
       "      <td>0</td>\n",
       "    </tr>\n",
       "    <tr>\n",
       "      <th>300</th>\n",
       "      <td>68</td>\n",
       "      <td>1</td>\n",
       "      <td>0</td>\n",
       "      <td>144</td>\n",
       "      <td>193</td>\n",
       "      <td>1</td>\n",
       "      <td>1</td>\n",
       "      <td>141</td>\n",
       "      <td>0</td>\n",
       "      <td>3.4</td>\n",
       "      <td>1</td>\n",
       "      <td>2</td>\n",
       "      <td>3</td>\n",
       "      <td>0</td>\n",
       "    </tr>\n",
       "    <tr>\n",
       "      <th>301</th>\n",
       "      <td>57</td>\n",
       "      <td>1</td>\n",
       "      <td>0</td>\n",
       "      <td>130</td>\n",
       "      <td>131</td>\n",
       "      <td>0</td>\n",
       "      <td>1</td>\n",
       "      <td>115</td>\n",
       "      <td>1</td>\n",
       "      <td>1.2</td>\n",
       "      <td>1</td>\n",
       "      <td>1</td>\n",
       "      <td>3</td>\n",
       "      <td>0</td>\n",
       "    </tr>\n",
       "    <tr>\n",
       "      <th>302</th>\n",
       "      <td>57</td>\n",
       "      <td>0</td>\n",
       "      <td>1</td>\n",
       "      <td>130</td>\n",
       "      <td>236</td>\n",
       "      <td>0</td>\n",
       "      <td>0</td>\n",
       "      <td>174</td>\n",
       "      <td>0</td>\n",
       "      <td>0.0</td>\n",
       "      <td>1</td>\n",
       "      <td>1</td>\n",
       "      <td>2</td>\n",
       "      <td>0</td>\n",
       "    </tr>\n",
       "  </tbody>\n",
       "</table>\n",
       "</div>"
      ],
      "text/plain": [
       "     age  sex  cp  trestbps  chol  fbs  restecg  thalach  exang  oldpeak  \\\n",
       "298   57    0   0       140   241    0        1      123      1      0.2   \n",
       "299   45    1   3       110   264    0        1      132      0      1.2   \n",
       "300   68    1   0       144   193    1        1      141      0      3.4   \n",
       "301   57    1   0       130   131    0        1      115      1      1.2   \n",
       "302   57    0   1       130   236    0        0      174      0      0.0   \n",
       "\n",
       "     slope  ca  thal  target  \n",
       "298      1   0     3       0  \n",
       "299      1   0     3       0  \n",
       "300      1   2     3       0  \n",
       "301      1   1     3       0  \n",
       "302      1   1     2       0  "
      ]
     },
     "execution_count": 4,
     "metadata": {},
     "output_type": "execute_result"
    }
   ],
   "source": [
    "df.tail()"
   ]
  },
  {
   "cell_type": "code",
   "execution_count": 5,
   "id": "2bc6d001",
   "metadata": {},
   "outputs": [
    {
     "data": {
      "text/plain": [
       "1    165\n",
       "0    138\n",
       "Name: target, dtype: int64"
      ]
     },
     "execution_count": 5,
     "metadata": {},
     "output_type": "execute_result"
    }
   ],
   "source": [
    "df[\"target\"].value_counts()"
   ]
  },
  {
   "cell_type": "code",
   "execution_count": 6,
   "id": "3f9b60a1",
   "metadata": {},
   "outputs": [
    {
     "data": {
      "image/png": "[encoded data removed]",
      "text/plain": [
       "<Figure size 432x288 with 1 Axes>"
      ]
     },
     "metadata": {
      "needs_background": "light"
     },
     "output_type": "display_data"
    }
   ],
   "source": [
    "df[\"target\"].value_counts().plot(kind=\"bar\",color=[\"salmon\",\"lightblue\"]);"
   ]
  },
  {
   "cell_type": "code",
   "execution_count": 7,
   "id": "74f12b62",
   "metadata": {},
   "outputs": [
    {
     "name": "stdout",
     "output_type": "stream",
     "text": [
      "<class 'pandas.core.frame.DataFrame'>\n",
      "RangeIndex: 303 entries, 0 to 302\n",
      "Data columns (total 14 columns):\n",
      " #   Column    Non-Null Count  Dtype  \n",
      "---  ------    --------------  -----  \n",
      " 0   age       303 non-null    int64  \n",
      " 1   sex       303 non-null    int64  \n",
      " 2   cp        303 non-null    int64  \n",
      " 3   trestbps  303 non-null    int64  \n",
      " 4   chol      303 non-null    int64  \n",
      " 5   fbs       303 non-null    int64  \n",
      " 6   restecg   303 non-null    int64  \n",
      " 7   thalach   303 non-null    int64  \n",
      " 8   exang     303 non-null    int64  \n",
      " 9   oldpeak   303 non-null    float64\n",
      " 10  slope     303 non-null    int64  \n",
      " 11  ca        303 non-null    int64  \n",
      " 12  thal      303 non-null    int64  \n",
      " 13  target    303 non-null    int64  \n",
      "dtypes: float64(1), int64(13)\n",
      "memory usage: 33.3 KB\n"
     ]
    }
   ],
   "source": [
    "df.info()"
   ]
  },
  {
   "cell_type": "code",
   "execution_count": 8,
   "id": "1410e643",
   "metadata": {},
   "outputs": [
    {
     "data": {
      "text/html": [
       "<div>\n",
       "<style scoped>\n",
       "    .dataframe tbody tr th:only-of-type {\n",
       "        vertical-align: middle;\n",
       "    }\n",
       "\n",
       "    .dataframe tbody tr th {\n",
       "        vertical-align: top;\n",
       "    }\n",
       "\n",
       "    .dataframe thead th {\n",
       "        text-align: right;\n",
       "    }\n",
       "</style>\n",
       "<table border=\"1\" class=\"dataframe\">\n",
       "  <thead>\n",
       "    <tr style=\"text-align: right;\">\n",
       "      <th></th>\n",
       "      <th>age</th>\n",
       "      <th>sex</th>\n",
       "      <th>cp</th>\n",
       "      <th>trestbps</th>\n",
       "      <th>chol</th>\n",
       "      <th>fbs</th>\n",
       "      <th>restecg</th>\n",
       "      <th>thalach</th>\n",
       "      <th>exang</th>\n",
       "      <th>oldpeak</th>\n",
       "      <th>slope</th>\n",
       "      <th>ca</th>\n",
       "      <th>thal</th>\n",
       "      <th>target</th>\n",
       "    </tr>\n",
       "  </thead>\n",
       "  <tbody>\n",
       "    <tr>\n",
       "      <th>count</th>\n",
       "      <td>303.000000</td>\n",
       "      <td>303.000000</td>\n",
       "      <td>303.000000</td>\n",
       "      <td>303.000000</td>\n",
       "      <td>303.000000</td>\n",
       "      <td>303.000000</td>\n",
       "      <td>303.000000</td>\n",
       "      <td>303.000000</td>\n",
       "      <td>303.000000</td>\n",
       "      <td>303.000000</td>\n",
       "      <td>303.000000</td>\n",
       "      <td>303.000000</td>\n",
       "      <td>303.000000</td>\n",
       "      <td>303.000000</td>\n",
       "    </tr>\n",
       "    <tr>\n",
       "      <th>mean</th>\n",
       "      <td>54.366337</td>\n",
       "      <td>0.683168</td>\n",
       "      <td>0.966997</td>\n",
       "      <td>131.623762</td>\n",
       "      <td>246.264026</td>\n",
       "      <td>0.148515</td>\n",
       "      <td>0.528053</td>\n",
       "      <td>149.646865</td>\n",
       "      <td>0.326733</td>\n",
       "      <td>1.039604</td>\n",
       "      <td>1.399340</td>\n",
       "      <td>0.729373</td>\n",
       "      <td>2.313531</td>\n",
       "      <td>0.544554</td>\n",
       "    </tr>\n",
       "    <tr>\n",
       "      <th>std</th>\n",
       "      <td>9.082101</td>\n",
       "      <td>0.466011</td>\n",
       "      <td>1.032052</td>\n",
       "      <td>17.538143</td>\n",
       "      <td>51.830751</td>\n",
       "      <td>0.356198</td>\n",
       "      <td>0.525860</td>\n",
       "      <td>22.905161</td>\n",
       "      <td>0.469794</td>\n",
       "      <td>1.161075</td>\n",
       "      <td>0.616226</td>\n",
       "      <td>1.022606</td>\n",
       "      <td>0.612277</td>\n",
       "      <td>0.498835</td>\n",
       "    </tr>\n",
       "    <tr>\n",
       "      <th>min</th>\n",
       "      <td>29.000000</td>\n",
       "      <td>0.000000</td>\n",
       "      <td>0.000000</td>\n",
       "      <td>94.000000</td>\n",
       "      <td>126.000000</td>\n",
       "      <td>0.000000</td>\n",
       "      <td>0.000000</td>\n",
       "      <td>71.000000</td>\n",
       "      <td>0.000000</td>\n",
       "      <td>0.000000</td>\n",
       "      <td>0.000000</td>\n",
       "      <td>0.000000</td>\n",
       "      <td>0.000000</td>\n",
       "      <td>0.000000</td>\n",
       "    </tr>\n",
       "    <tr>\n",
       "      <th>25%</th>\n",
       "      <td>47.500000</td>\n",
       "      <td>0.000000</td>\n",
       "      <td>0.000000</td>\n",
       "      <td>120.000000</td>\n",
       "      <td>211.000000</td>\n",
       "      <td>0.000000</td>\n",
       "      <td>0.000000</td>\n",
       "      <td>133.500000</td>\n",
       "      <td>0.000000</td>\n",
       "      <td>0.000000</td>\n",
       "      <td>1.000000</td>\n",
       "      <td>0.000000</td>\n",
       "      <td>2.000000</td>\n",
       "      <td>0.000000</td>\n",
       "    </tr>\n",
       "    <tr>\n",
       "      <th>50%</th>\n",
       "      <td>55.000000</td>\n",
       "      <td>1.000000</td>\n",
       "      <td>1.000000</td>\n",
       "      <td>130.000000</td>\n",
       "      <td>240.000000</td>\n",
       "      <td>0.000000</td>\n",
       "      <td>1.000000</td>\n",
       "      <td>153.000000</td>\n",
       "      <td>0.000000</td>\n",
       "      <td>0.800000</td>\n",
       "      <td>1.000000</td>\n",
       "      <td>0.000000</td>\n",
       "      <td>2.000000</td>\n",
       "      <td>1.000000</td>\n",
       "    </tr>\n",
       "    <tr>\n",
       "      <th>75%</th>\n",
       "      <td>61.000000</td>\n",
       "      <td>1.000000</td>\n",
       "      <td>2.000000</td>\n",
       "      <td>140.000000</td>\n",
       "      <td>274.500000</td>\n",
       "      <td>0.000000</td>\n",
       "      <td>1.000000</td>\n",
       "      <td>166.000000</td>\n",
       "      <td>1.000000</td>\n",
       "      <td>1.600000</td>\n",
       "      <td>2.000000</td>\n",
       "      <td>1.000000</td>\n",
       "      <td>3.000000</td>\n",
       "      <td>1.000000</td>\n",
       "    </tr>\n",
       "    <tr>\n",
       "      <th>max</th>\n",
       "      <td>77.000000</td>\n",
       "      <td>1.000000</td>\n",
       "      <td>3.000000</td>\n",
       "      <td>200.000000</td>\n",
       "      <td>564.000000</td>\n",
       "      <td>1.000000</td>\n",
       "      <td>2.000000</td>\n",
       "      <td>202.000000</td>\n",
       "      <td>1.000000</td>\n",
       "      <td>6.200000</td>\n",
       "      <td>2.000000</td>\n",
       "      <td>4.000000</td>\n",
       "      <td>3.000000</td>\n",
       "      <td>1.000000</td>\n",
       "    </tr>\n",
       "  </tbody>\n",
       "</table>\n",
       "</div>"
      ],
      "text/plain": [
       "              age         sex          cp    trestbps        chol         fbs  \\\n",
       "count  303.000000  303.000000  303.000000  303.000000  303.000000  303.000000   \n",
       "mean    54.366337    0.683168    0.966997  131.623762  246.264026    0.148515   \n",
       "std      9.082101    0.466011    1.032052   17.538143   51.830751    0.356198   \n",
       "min     29.000000    0.000000    0.000000   94.000000  126.000000    0.000000   \n",
       "25%     47.500000    0.000000    0.000000  120.000000  211.000000    0.000000   \n",
       "50%     55.000000    1.000000    1.000000  130.000000  240.000000    0.000000   \n",
       "75%     61.000000    1.000000    2.000000  140.000000  274.500000    0.000000   \n",
       "max     77.000000    1.000000    3.000000  200.000000  564.000000    1.000000   \n",
       "\n",
       "          restecg     thalach       exang     oldpeak       slope          ca  \\\n",
       "count  303.000000  303.000000  303.000000  303.000000  303.000000  303.000000   \n",
       "mean     0.528053  149.646865    0.326733    1.039604    1.399340    0.729373   \n",
       "std      0.525860   22.905161    0.469794    1.161075    0.616226    1.022606   \n",
       "min      0.000000   71.000000    0.000000    0.000000    0.000000    0.000000   \n",
       "25%      0.000000  133.500000    0.000000    0.000000    1.000000    0.000000   \n",
       "50%      1.000000  153.000000    0.000000    0.800000    1.000000    0.000000   \n",
       "75%      1.000000  166.000000    1.000000    1.600000    2.000000    1.000000   \n",
       "max      2.000000  202.000000    1.000000    6.200000    2.000000    4.000000   \n",
       "\n",
       "             thal      target  \n",
       "count  303.000000  303.000000  \n",
       "mean     2.313531    0.544554  \n",
       "std      0.612277    0.498835  \n",
       "min      0.000000    0.000000  \n",
       "25%      2.000000    0.000000  \n",
       "50%      2.000000    1.000000  \n",
       "75%      3.000000    1.000000  \n",
       "max      3.000000    1.000000  "
      ]
     },
     "execution_count": 8,
     "metadata": {},
     "output_type": "execute_result"
    }
   ],
   "source": [
    "df.describe()"
   ]
  },
  {
   "cell_type": "markdown",
   "id": "dec88490",
   "metadata": {},
   "source": [
    "## Heart Disease frequency according to sex"
   ]
  },
  {
   "cell_type": "code",
   "execution_count": 9,
   "id": "6ef072e3",
   "metadata": {},
   "outputs": [
    {
     "data": {
      "text/plain": [
       "1    207\n",
       "0     96\n",
       "Name: sex, dtype: int64"
      ]
     },
     "execution_count": 9,
     "metadata": {},
     "output_type": "execute_result"
    }
   ],
   "source": [
    "df.sex.value_counts()"
   ]
  },
  {
   "cell_type": "code",
   "execution_count": 10,
   "id": "50b939bd",
   "metadata": {},
   "outputs": [
    {
     "data": {
      "text/html": [
       "<div>\n",
       "<style scoped>\n",
       "    .dataframe tbody tr th:only-of-type {\n",
       "        vertical-align: middle;\n",
       "    }\n",
       "\n",
       "    .dataframe tbody tr th {\n",
       "        vertical-align: top;\n",
       "    }\n",
       "\n",
       "    .dataframe thead th {\n",
       "        text-align: right;\n",
       "    }\n",
       "</style>\n",
       "<table border=\"1\" class=\"dataframe\">\n",
       "  <thead>\n",
       "    <tr style=\"text-align: right;\">\n",
       "      <th>sex</th>\n",
       "      <th>0</th>\n",
       "      <th>1</th>\n",
       "    </tr>\n",
       "    <tr>\n",
       "      <th>target</th>\n",
       "      <th></th>\n",
       "      <th></th>\n",
       "    </tr>\n",
       "  </thead>\n",
       "  <tbody>\n",
       "    <tr>\n",
       "      <th>0</th>\n",
       "      <td>24</td>\n",
       "      <td>114</td>\n",
       "    </tr>\n",
       "    <tr>\n",
       "      <th>1</th>\n",
       "      <td>72</td>\n",
       "      <td>93</td>\n",
       "    </tr>\n",
       "  </tbody>\n",
       "</table>\n",
       "</div>"
      ],
      "text/plain": [
       "sex      0    1\n",
       "target         \n",
       "0       24  114\n",
       "1       72   93"
      ]
     },
     "execution_count": 10,
     "metadata": {},
     "output_type": "execute_result"
    }
   ],
   "source": [
    "# compare target column with sex column\n",
    "pd.crosstab(df.target,df.sex)"
   ]
  },
  {
   "cell_type": "code",
   "execution_count": 11,
   "id": "03ba714a",
   "metadata": {},
   "outputs": [
    {
     "data": {
      "image/png": "[encoded data removed]",
      "text/plain": [
       "<Figure size 432x288 with 1 Axes>"
      ]
     },
     "metadata": {
      "needs_background": "light"
     },
     "output_type": "display_data"
    }
   ],
   "source": [
    "pd.crosstab(df.target,df.sex).plot(kind=\"bar\",color=[\"salmon\",\"lightblue\"])\n",
    "\n",
    "plt.title(\"Heart Disease Frequency for sex\")\n",
    "plt.xlabel('0= \"No Disease\", 1=\"Disease\"')\n",
    "plt.ylabel(\"Amount\")\n",
    "plt.legend([\"Female\",\"Male\"]);\n",
    "plt.xticks(rotation=0);"
   ]
  },
  {
   "cell_type": "markdown",
   "id": "9bab410d",
   "metadata": {},
   "source": [
    "## Age vs Max heart rate for heart disease"
   ]
  },
  {
   "cell_type": "code",
   "execution_count": 14,
   "id": "4d058510",
   "metadata": {},
   "outputs": [
    {
     "data": {
      "image/png": "[encoded data removed]",
      "text/plain": [
       "<Figure size 720x432 with 1 Axes>"
      ]
     },
     "metadata": {
      "needs_background": "light"
     },
     "output_type": "display_data"
    }
   ],
   "source": [
    "plt.figure(figsize=(10,6))\n",
    "\n",
    "# scatter with plt live emple\n",
    "\n",
    "plt.scatter(df.age[df.target==1],\n",
    "           df.thalach[df.target==1],\n",
    "           c=\"salmon\");\n",
    "\n",
    "# scatte with nwegative eample\n",
    "# scatter with plt live emple\n",
    "\n",
    "plt.scatter(df.age[df.target==0],\n",
    "           df.thalach[df.target==0],\n",
    "           c=\"lightblue\");\n",
    "plt.title(\"Heart Disease in function of Age and Max Heart rate\")\n",
    "plt.xlabel(\"Age\")\n",
    "plt.ylabel(\"Max Heart Rate\")\n",
    "plt.legend([\"Disease\",\"No Disease\"]);"
   ]
  },
  {
   "cell_type": "code",
   "execution_count": 16,
   "id": "bf8230e1",
   "metadata": {},
   "outputs": [
    {
     "data": {
      "image/png": "[encoded data removed]",
      "text/plain": [
       "<Figure size 432x288 with 1 Axes>"
      ]
     },
     "metadata": {
      "needs_background": "light"
     },
     "output_type": "display_data"
    }
   ],
   "source": [
    "# distribution odf age column\n",
    "\n",
    "df.age.plot.hist();"
   ]
  },
  {
   "cell_type": "markdown",
   "id": "1ede0454",
   "metadata": {},
   "source": [
    "## Heart Disease Frequency per Chest Pain Type\n",
    "cp - chest pain type\n",
    " * 0: Typical angina: chest pain related decrease blood supply to the heart\n",
    " * 1: Atypical angina: chest pain not related to heart\n",
    " * 2: Non-anginal pain: typically esophageal spasms (non heart related)\n",
    "* 3: Asymptomatic: chest pain not showing signs of disease"
   ]
  },
  {
   "cell_type": "code",
   "execution_count": 17,
   "id": "401fed81",
   "metadata": {},
   "outputs": [
    {
     "data": {
      "text/html": [
       "<div>\n",
       "<style scoped>\n",
       "    .dataframe tbody tr th:only-of-type {\n",
       "        vertical-align: middle;\n",
       "    }\n",
       "\n",
       "    .dataframe tbody tr th {\n",
       "        vertical-align: top;\n",
       "    }\n",
       "\n",
       "    .dataframe thead th {\n",
       "        text-align: right;\n",
       "    }\n",
       "</style>\n",
       "<table border=\"1\" class=\"dataframe\">\n",
       "  <thead>\n",
       "    <tr style=\"text-align: right;\">\n",
       "      <th>target</th>\n",
       "      <th>0</th>\n",
       "      <th>1</th>\n",
       "    </tr>\n",
       "    <tr>\n",
       "      <th>cp</th>\n",
       "      <th></th>\n",
       "      <th></th>\n",
       "    </tr>\n",
       "  </thead>\n",
       "  <tbody>\n",
       "    <tr>\n",
       "      <th>0</th>\n",
       "      <td>104</td>\n",
       "      <td>39</td>\n",
       "    </tr>\n",
       "    <tr>\n",
       "      <th>1</th>\n",
       "      <td>9</td>\n",
       "      <td>41</td>\n",
       "    </tr>\n",
       "    <tr>\n",
       "      <th>2</th>\n",
       "      <td>18</td>\n",
       "      <td>69</td>\n",
       "    </tr>\n",
       "    <tr>\n",
       "      <th>3</th>\n",
       "      <td>7</td>\n",
       "      <td>16</td>\n",
       "    </tr>\n",
       "  </tbody>\n",
       "</table>\n",
       "</div>"
      ],
      "text/plain": [
       "target    0   1\n",
       "cp             \n",
       "0       104  39\n",
       "1         9  41\n",
       "2        18  69\n",
       "3         7  16"
      ]
     },
     "execution_count": 17,
     "metadata": {},
     "output_type": "execute_result"
    }
   ],
   "source": [
    "pd.crosstab(df.cp,df.target)"
   ]
  },
  {
   "cell_type": "code",
   "execution_count": 18,
   "id": "21c132eb",
   "metadata": {},
   "outputs": [
    {
     "data": {
      "image/png": "[encoded data removed]",
      "text/plain": [
       "<Figure size 720x432 with 1 Axes>"
      ]
     },
     "metadata": {
      "needs_background": "light"
     },
     "output_type": "display_data"
    }
   ],
   "source": [
    "# Make the crosstab more visual\n",
    "pd.crosstab(df.cp, df.target).plot(kind=\"bar\",\n",
    "                                   figsize=(10, 6),\n",
    "                                   color=[\"salmon\", \"lightblue\"])\n",
    "\n",
    "# Add some communication\n",
    "plt.title(\"Heart Disease Frequency Per Chest Pain Type\")\n",
    "plt.xlabel(\"Chest Pain Type\")\n",
    "plt.ylabel(\"Amount\")\n",
    "plt.legend([\"No Disease\", \"Disease\"])\n",
    "plt.xticks(rotation=0);"
   ]
  },
  {
   "cell_type": "code",
   "execution_count": 19,
   "id": "a1ef0854",
   "metadata": {},
   "outputs": [
    {
     "data": {
      "text/html": [
       "<div>\n",
       "<style scoped>\n",
       "    .dataframe tbody tr th:only-of-type {\n",
       "        vertical-align: middle;\n",
       "    }\n",
       "\n",
       "    .dataframe tbody tr th {\n",
       "        vertical-align: top;\n",
       "    }\n",
       "\n",
       "    .dataframe thead th {\n",
       "        text-align: right;\n",
       "    }\n",
       "</style>\n",
       "<table border=\"1\" class=\"dataframe\">\n",
       "  <thead>\n",
       "    <tr style=\"text-align: right;\">\n",
       "      <th></th>\n",
       "      <th>age</th>\n",
       "      <th>sex</th>\n",
       "      <th>cp</th>\n",
       "      <th>trestbps</th>\n",
       "      <th>chol</th>\n",
       "      <th>fbs</th>\n",
       "      <th>restecg</th>\n",
       "      <th>thalach</th>\n",
       "      <th>exang</th>\n",
       "      <th>oldpeak</th>\n",
       "      <th>slope</th>\n",
       "      <th>ca</th>\n",
       "      <th>thal</th>\n",
       "      <th>target</th>\n",
       "    </tr>\n",
       "  </thead>\n",
       "  <tbody>\n",
       "    <tr>\n",
       "      <th>0</th>\n",
       "      <td>63</td>\n",
       "      <td>1</td>\n",
       "      <td>3</td>\n",
       "      <td>145</td>\n",
       "      <td>233</td>\n",
       "      <td>1</td>\n",
       "      <td>0</td>\n",
       "      <td>150</td>\n",
       "      <td>0</td>\n",
       "      <td>2.3</td>\n",
       "      <td>0</td>\n",
       "      <td>0</td>\n",
       "      <td>1</td>\n",
       "      <td>1</td>\n",
       "    </tr>\n",
       "    <tr>\n",
       "      <th>1</th>\n",
       "      <td>37</td>\n",
       "      <td>1</td>\n",
       "      <td>2</td>\n",
       "      <td>130</td>\n",
       "      <td>250</td>\n",
       "      <td>0</td>\n",
       "      <td>1</td>\n",
       "      <td>187</td>\n",
       "      <td>0</td>\n",
       "      <td>3.5</td>\n",
       "      <td>0</td>\n",
       "      <td>0</td>\n",
       "      <td>2</td>\n",
       "      <td>1</td>\n",
       "    </tr>\n",
       "    <tr>\n",
       "      <th>2</th>\n",
       "      <td>41</td>\n",
       "      <td>0</td>\n",
       "      <td>1</td>\n",
       "      <td>130</td>\n",
       "      <td>204</td>\n",
       "      <td>0</td>\n",
       "      <td>0</td>\n",
       "      <td>172</td>\n",
       "      <td>0</td>\n",
       "      <td>1.4</td>\n",
       "      <td>2</td>\n",
       "      <td>0</td>\n",
       "      <td>2</td>\n",
       "      <td>1</td>\n",
       "    </tr>\n",
       "    <tr>\n",
       "      <th>3</th>\n",
       "      <td>56</td>\n",
       "      <td>1</td>\n",
       "      <td>1</td>\n",
       "      <td>120</td>\n",
       "      <td>236</td>\n",
       "      <td>0</td>\n",
       "      <td>1</td>\n",
       "      <td>178</td>\n",
       "      <td>0</td>\n",
       "      <td>0.8</td>\n",
       "      <td>2</td>\n",
       "      <td>0</td>\n",
       "      <td>2</td>\n",
       "      <td>1</td>\n",
       "    </tr>\n",
       "    <tr>\n",
       "      <th>4</th>\n",
       "      <td>57</td>\n",
       "      <td>0</td>\n",
       "      <td>0</td>\n",
       "      <td>120</td>\n",
       "      <td>354</td>\n",
       "      <td>0</td>\n",
       "      <td>1</td>\n",
       "      <td>163</td>\n",
       "      <td>1</td>\n",
       "      <td>0.6</td>\n",
       "      <td>2</td>\n",
       "      <td>0</td>\n",
       "      <td>2</td>\n",
       "      <td>1</td>\n",
       "    </tr>\n",
       "  </tbody>\n",
       "</table>\n",
       "</div>"
      ],
      "text/plain": [
       "   age  sex  cp  trestbps  chol  fbs  restecg  thalach  exang  oldpeak  slope  \\\n",
       "0   63    1   3       145   233    1        0      150      0      2.3      0   \n",
       "1   37    1   2       130   250    0        1      187      0      3.5      0   \n",
       "2   41    0   1       130   204    0        0      172      0      1.4      2   \n",
       "3   56    1   1       120   236    0        1      178      0      0.8      2   \n",
       "4   57    0   0       120   354    0        1      163      1      0.6      2   \n",
       "\n",
       "   ca  thal  target  \n",
       "0   0     1       1  \n",
       "1   0     2       1  \n",
       "2   0     2       1  \n",
       "3   0     2       1  \n",
       "4   0     2       1  "
      ]
     },
     "execution_count": 19,
     "metadata": {},
     "output_type": "execute_result"
    }
   ],
   "source": [
    "df.head()\n",
    "# heading = independent variable\n",
    "# target"
   ]
  },
  {
   "cell_type": "code",
   "execution_count": 21,
   "id": "2600aeaa",
   "metadata": {},
   "outputs": [
    {
     "data": {
      "text/html": [
       "<div>\n",
       "<style scoped>\n",
       "    .dataframe tbody tr th:only-of-type {\n",
       "        vertical-align: middle;\n",
       "    }\n",
       "\n",
       "    .dataframe tbody tr th {\n",
       "        vertical-align: top;\n",
       "    }\n",
       "\n",
       "    .dataframe thead th {\n",
       "        text-align: right;\n",
       "    }\n",
       "</style>\n",
       "<table border=\"1\" class=\"dataframe\">\n",
       "  <thead>\n",
       "    <tr style=\"text-align: right;\">\n",
       "      <th></th>\n",
       "      <th>age</th>\n",
       "      <th>sex</th>\n",
       "      <th>cp</th>\n",
       "      <th>trestbps</th>\n",
       "      <th>chol</th>\n",
       "      <th>fbs</th>\n",
       "      <th>restecg</th>\n",
       "      <th>thalach</th>\n",
       "      <th>exang</th>\n",
       "      <th>oldpeak</th>\n",
       "      <th>slope</th>\n",
       "      <th>ca</th>\n",
       "      <th>thal</th>\n",
       "      <th>target</th>\n",
       "    </tr>\n",
       "  </thead>\n",
       "  <tbody>\n",
       "    <tr>\n",
       "      <th>age</th>\n",
       "      <td>1.000000</td>\n",
       "      <td>-0.098447</td>\n",
       "      <td>-0.068653</td>\n",
       "      <td>0.279351</td>\n",
       "      <td>0.213678</td>\n",
       "      <td>0.121308</td>\n",
       "      <td>-0.116211</td>\n",
       "      <td>-0.398522</td>\n",
       "      <td>0.096801</td>\n",
       "      <td>0.210013</td>\n",
       "      <td>-0.168814</td>\n",
       "      <td>0.276326</td>\n",
       "      <td>0.068001</td>\n",
       "      <td>-0.225439</td>\n",
       "    </tr>\n",
       "    <tr>\n",
       "      <th>sex</th>\n",
       "      <td>-0.098447</td>\n",
       "      <td>1.000000</td>\n",
       "      <td>-0.049353</td>\n",
       "      <td>-0.056769</td>\n",
       "      <td>-0.197912</td>\n",
       "      <td>0.045032</td>\n",
       "      <td>-0.058196</td>\n",
       "      <td>-0.044020</td>\n",
       "      <td>0.141664</td>\n",
       "      <td>0.096093</td>\n",
       "      <td>-0.030711</td>\n",
       "      <td>0.118261</td>\n",
       "      <td>0.210041</td>\n",
       "      <td>-0.280937</td>\n",
       "    </tr>\n",
       "    <tr>\n",
       "      <th>cp</th>\n",
       "      <td>-0.068653</td>\n",
       "      <td>-0.049353</td>\n",
       "      <td>1.000000</td>\n",
       "      <td>0.047608</td>\n",
       "      <td>-0.076904</td>\n",
       "      <td>0.094444</td>\n",
       "      <td>0.044421</td>\n",
       "      <td>0.295762</td>\n",
       "      <td>-0.394280</td>\n",
       "      <td>-0.149230</td>\n",
       "      <td>0.119717</td>\n",
       "      <td>-0.181053</td>\n",
       "      <td>-0.161736</td>\n",
       "      <td>0.433798</td>\n",
       "    </tr>\n",
       "    <tr>\n",
       "      <th>trestbps</th>\n",
       "      <td>0.279351</td>\n",
       "      <td>-0.056769</td>\n",
       "      <td>0.047608</td>\n",
       "      <td>1.000000</td>\n",
       "      <td>0.123174</td>\n",
       "      <td>0.177531</td>\n",
       "      <td>-0.114103</td>\n",
       "      <td>-0.046698</td>\n",
       "      <td>0.067616</td>\n",
       "      <td>0.193216</td>\n",
       "      <td>-0.121475</td>\n",
       "      <td>0.101389</td>\n",
       "      <td>0.062210</td>\n",
       "      <td>-0.144931</td>\n",
       "    </tr>\n",
       "    <tr>\n",
       "      <th>chol</th>\n",
       "      <td>0.213678</td>\n",
       "      <td>-0.197912</td>\n",
       "      <td>-0.076904</td>\n",
       "      <td>0.123174</td>\n",
       "      <td>1.000000</td>\n",
       "      <td>0.013294</td>\n",
       "      <td>-0.151040</td>\n",
       "      <td>-0.009940</td>\n",
       "      <td>0.067023</td>\n",
       "      <td>0.053952</td>\n",
       "      <td>-0.004038</td>\n",
       "      <td>0.070511</td>\n",
       "      <td>0.098803</td>\n",
       "      <td>-0.085239</td>\n",
       "    </tr>\n",
       "    <tr>\n",
       "      <th>fbs</th>\n",
       "      <td>0.121308</td>\n",
       "      <td>0.045032</td>\n",
       "      <td>0.094444</td>\n",
       "      <td>0.177531</td>\n",
       "      <td>0.013294</td>\n",
       "      <td>1.000000</td>\n",
       "      <td>-0.084189</td>\n",
       "      <td>-0.008567</td>\n",
       "      <td>0.025665</td>\n",
       "      <td>0.005747</td>\n",
       "      <td>-0.059894</td>\n",
       "      <td>0.137979</td>\n",
       "      <td>-0.032019</td>\n",
       "      <td>-0.028046</td>\n",
       "    </tr>\n",
       "    <tr>\n",
       "      <th>restecg</th>\n",
       "      <td>-0.116211</td>\n",
       "      <td>-0.058196</td>\n",
       "      <td>0.044421</td>\n",
       "      <td>-0.114103</td>\n",
       "      <td>-0.151040</td>\n",
       "      <td>-0.084189</td>\n",
       "      <td>1.000000</td>\n",
       "      <td>0.044123</td>\n",
       "      <td>-0.070733</td>\n",
       "      <td>-0.058770</td>\n",
       "      <td>0.093045</td>\n",
       "      <td>-0.072042</td>\n",
       "      <td>-0.011981</td>\n",
       "      <td>0.137230</td>\n",
       "    </tr>\n",
       "    <tr>\n",
       "      <th>thalach</th>\n",
       "      <td>-0.398522</td>\n",
       "      <td>-0.044020</td>\n",
       "      <td>0.295762</td>\n",
       "      <td>-0.046698</td>\n",
       "      <td>-0.009940</td>\n",
       "      <td>-0.008567</td>\n",
       "      <td>0.044123</td>\n",
       "      <td>1.000000</td>\n",
       "      <td>-0.378812</td>\n",
       "      <td>-0.344187</td>\n",
       "      <td>0.386784</td>\n",
       "      <td>-0.213177</td>\n",
       "      <td>-0.096439</td>\n",
       "      <td>0.421741</td>\n",
       "    </tr>\n",
       "    <tr>\n",
       "      <th>exang</th>\n",
       "      <td>0.096801</td>\n",
       "      <td>0.141664</td>\n",
       "      <td>-0.394280</td>\n",
       "      <td>0.067616</td>\n",
       "      <td>0.067023</td>\n",
       "      <td>0.025665</td>\n",
       "      <td>-0.070733</td>\n",
       "      <td>-0.378812</td>\n",
       "      <td>1.000000</td>\n",
       "      <td>0.288223</td>\n",
       "      <td>-0.257748</td>\n",
       "      <td>0.115739</td>\n",
       "      <td>0.206754</td>\n",
       "      <td>-0.436757</td>\n",
       "    </tr>\n",
       "    <tr>\n",
       "      <th>oldpeak</th>\n",
       "      <td>0.210013</td>\n",
       "      <td>0.096093</td>\n",
       "      <td>-0.149230</td>\n",
       "      <td>0.193216</td>\n",
       "      <td>0.053952</td>\n",
       "      <td>0.005747</td>\n",
       "      <td>-0.058770</td>\n",
       "      <td>-0.344187</td>\n",
       "      <td>0.288223</td>\n",
       "      <td>1.000000</td>\n",
       "      <td>-0.577537</td>\n",
       "      <td>0.222682</td>\n",
       "      <td>0.210244</td>\n",
       "      <td>-0.430696</td>\n",
       "    </tr>\n",
       "    <tr>\n",
       "      <th>slope</th>\n",
       "      <td>-0.168814</td>\n",
       "      <td>-0.030711</td>\n",
       "      <td>0.119717</td>\n",
       "      <td>-0.121475</td>\n",
       "      <td>-0.004038</td>\n",
       "      <td>-0.059894</td>\n",
       "      <td>0.093045</td>\n",
       "      <td>0.386784</td>\n",
       "      <td>-0.257748</td>\n",
       "      <td>-0.577537</td>\n",
       "      <td>1.000000</td>\n",
       "      <td>-0.080155</td>\n",
       "      <td>-0.104764</td>\n",
       "      <td>0.345877</td>\n",
       "    </tr>\n",
       "    <tr>\n",
       "      <th>ca</th>\n",
       "      <td>0.276326</td>\n",
       "      <td>0.118261</td>\n",
       "      <td>-0.181053</td>\n",
       "      <td>0.101389</td>\n",
       "      <td>0.070511</td>\n",
       "      <td>0.137979</td>\n",
       "      <td>-0.072042</td>\n",
       "      <td>-0.213177</td>\n",
       "      <td>0.115739</td>\n",
       "      <td>0.222682</td>\n",
       "      <td>-0.080155</td>\n",
       "      <td>1.000000</td>\n",
       "      <td>0.151832</td>\n",
       "      <td>-0.391724</td>\n",
       "    </tr>\n",
       "    <tr>\n",
       "      <th>thal</th>\n",
       "      <td>0.068001</td>\n",
       "      <td>0.210041</td>\n",
       "      <td>-0.161736</td>\n",
       "      <td>0.062210</td>\n",
       "      <td>0.098803</td>\n",
       "      <td>-0.032019</td>\n",
       "      <td>-0.011981</td>\n",
       "      <td>-0.096439</td>\n",
       "      <td>0.206754</td>\n",
       "      <td>0.210244</td>\n",
       "      <td>-0.104764</td>\n",
       "      <td>0.151832</td>\n",
       "      <td>1.000000</td>\n",
       "      <td>-0.344029</td>\n",
       "    </tr>\n",
       "    <tr>\n",
       "      <th>target</th>\n",
       "      <td>-0.225439</td>\n",
       "      <td>-0.280937</td>\n",
       "      <td>0.433798</td>\n",
       "      <td>-0.144931</td>\n",
       "      <td>-0.085239</td>\n",
       "      <td>-0.028046</td>\n",
       "      <td>0.137230</td>\n",
       "      <td>0.421741</td>\n",
       "      <td>-0.436757</td>\n",
       "      <td>-0.430696</td>\n",
       "      <td>0.345877</td>\n",
       "      <td>-0.391724</td>\n",
       "      <td>-0.344029</td>\n",
       "      <td>1.000000</td>\n",
       "    </tr>\n",
       "  </tbody>\n",
       "</table>\n",
       "</div>"
      ],
      "text/plain": [
       "               age       sex        cp  trestbps      chol       fbs  \\\n",
       "age       1.000000 -0.098447 -0.068653  0.279351  0.213678  0.121308   \n",
       "sex      -0.098447  1.000000 -0.049353 -0.056769 -0.197912  0.045032   \n",
       "cp       -0.068653 -0.049353  1.000000  0.047608 -0.076904  0.094444   \n",
       "trestbps  0.279351 -0.056769  0.047608  1.000000  0.123174  0.177531   \n",
       "chol      0.213678 -0.197912 -0.076904  0.123174  1.000000  0.013294   \n",
       "fbs       0.121308  0.045032  0.094444  0.177531  0.013294  1.000000   \n",
       "restecg  -0.116211 -0.058196  0.044421 -0.114103 -0.151040 -0.084189   \n",
       "thalach  -0.398522 -0.044020  0.295762 -0.046698 -0.009940 -0.008567   \n",
       "exang     0.096801  0.141664 -0.394280  0.067616  0.067023  0.025665   \n",
       "oldpeak   0.210013  0.096093 -0.149230  0.193216  0.053952  0.005747   \n",
       "slope    -0.168814 -0.030711  0.119717 -0.121475 -0.004038 -0.059894   \n",
       "ca        0.276326  0.118261 -0.181053  0.101389  0.070511  0.137979   \n",
       "thal      0.068001  0.210041 -0.161736  0.062210  0.098803 -0.032019   \n",
       "target   -0.225439 -0.280937  0.433798 -0.144931 -0.085239 -0.028046   \n",
       "\n",
       "           restecg   thalach     exang   oldpeak     slope        ca  \\\n",
       "age      -0.116211 -0.398522  0.096801  0.210013 -0.168814  0.276326   \n",
       "sex      -0.058196 -0.044020  0.141664  0.096093 -0.030711  0.118261   \n",
       "cp        0.044421  0.295762 -0.394280 -0.149230  0.119717 -0.181053   \n",
       "trestbps -0.114103 -0.046698  0.067616  0.193216 -0.121475  0.101389   \n",
       "chol     -0.151040 -0.009940  0.067023  0.053952 -0.004038  0.070511   \n",
       "fbs      -0.084189 -0.008567  0.025665  0.005747 -0.059894  0.137979   \n",
       "restecg   1.000000  0.044123 -0.070733 -0.058770  0.093045 -0.072042   \n",
       "thalach   0.044123  1.000000 -0.378812 -0.344187  0.386784 -0.213177   \n",
       "exang    -0.070733 -0.378812  1.000000  0.288223 -0.257748  0.115739   \n",
       "oldpeak  -0.058770 -0.344187  0.288223  1.000000 -0.577537  0.222682   \n",
       "slope     0.093045  0.386784 -0.257748 -0.577537  1.000000 -0.080155   \n",
       "ca       -0.072042 -0.213177  0.115739  0.222682 -0.080155  1.000000   \n",
       "thal     -0.011981 -0.096439  0.206754  0.210244 -0.104764  0.151832   \n",
       "target    0.137230  0.421741 -0.436757 -0.430696  0.345877 -0.391724   \n",
       "\n",
       "              thal    target  \n",
       "age       0.068001 -0.225439  \n",
       "sex       0.210041 -0.280937  \n",
       "cp       -0.161736  0.433798  \n",
       "trestbps  0.062210 -0.144931  \n",
       "chol      0.098803 -0.085239  \n",
       "fbs      -0.032019 -0.028046  \n",
       "restecg  -0.011981  0.137230  \n",
       "thalach  -0.096439  0.421741  \n",
       "exang     0.206754 -0.436757  \n",
       "oldpeak   0.210244 -0.430696  \n",
       "slope    -0.104764  0.345877  \n",
       "ca        0.151832 -0.391724  \n",
       "thal      1.000000 -0.344029  \n",
       "target   -0.344029  1.000000  "
      ]
     },
     "execution_count": 21,
     "metadata": {},
     "output_type": "execute_result"
    }
   ],
   "source": [
    "# corrolation matrix\n",
    "df.corr()"
   ]
  },
  {
   "cell_type": "code",
   "execution_count": 23,
   "id": "957c58ee",
   "metadata": {},
   "outputs": [
    {
     "data": {
      "image/png": "[encoded data removed]",
      "text/plain": [
       "<Figure size 720x432 with 2 Axes>"
      ]
     },
     "metadata": {
      "needs_background": "light"
     },
     "output_type": "display_data"
    }
   ],
   "source": [
    "#  making our correlation matrix a little pretieer\n",
    "corr_matrix = df.corr()\n",
    "\n",
    "fig,ax = plt.subplots(figsize=(10,6))\n",
    "ax = sns.heatmap( corr_matrix,\n",
    "                 annot=True,\n",
    "                 linewidths=0.5,\n",
    "                 fmt=\".2f\",\n",
    "                 cmap=\"YlGnBu\");"
   ]
  },
  {
   "cell_type": "code",
   "execution_count": 25,
   "id": "8b0a6136",
   "metadata": {},
   "outputs": [
    {
     "data": {
      "text/html": [
       "<div>\n",
       "<style scoped>\n",
       "    .dataframe tbody tr th:only-of-type {\n",
       "        vertical-align: middle;\n",
       "    }\n",
       "\n",
       "    .dataframe tbody tr th {\n",
       "        vertical-align: top;\n",
       "    }\n",
       "\n",
       "    .dataframe thead th {\n",
       "        text-align: right;\n",
       "    }\n",
       "</style>\n",
       "<table border=\"1\" class=\"dataframe\">\n",
       "  <thead>\n",
       "    <tr style=\"text-align: right;\">\n",
       "      <th>target</th>\n",
       "      <th>0</th>\n",
       "      <th>1</th>\n",
       "    </tr>\n",
       "    <tr>\n",
       "      <th>exang</th>\n",
       "      <th></th>\n",
       "      <th></th>\n",
       "    </tr>\n",
       "  </thead>\n",
       "  <tbody>\n",
       "    <tr>\n",
       "      <th>0</th>\n",
       "      <td>62</td>\n",
       "      <td>142</td>\n",
       "    </tr>\n",
       "    <tr>\n",
       "      <th>1</th>\n",
       "      <td>76</td>\n",
       "      <td>23</td>\n",
       "    </tr>\n",
       "  </tbody>\n",
       "</table>\n",
       "</div>"
      ],
      "text/plain": [
       "target   0    1\n",
       "exang          \n",
       "0       62  142\n",
       "1       76   23"
      ]
     },
     "execution_count": 25,
     "metadata": {},
     "output_type": "execute_result"
    }
   ],
   "source": [
    "pd.crosstab(df.exang,df.target)"
   ]
  },
  {
   "cell_type": "markdown",
   "id": "1741e93c",
   "metadata": {},
   "source": [
    "# 5.Modelling"
   ]
  },
  {
   "cell_type": "code",
   "execution_count": 26,
   "id": "23ef8df3",
   "metadata": {},
   "outputs": [],
   "source": [
    "#  split the data\n",
    "X = df.drop(\"target\",axis=1)\n",
    "y = df[\"target\"]\n",
    "\n",
    "np.random.seed(42)\n",
    "\n",
    "X_train,X_test,y_train,y_test = train_test_split(X,y,test_size=0.2)\n"
   ]
  },
  {
   "cell_type": "code",
   "execution_count": 27,
   "id": "312b0185",
   "metadata": {},
   "outputs": [
    {
     "data": {
      "text/html": [
       "<div>\n",
       "<style scoped>\n",
       "    .dataframe tbody tr th:only-of-type {\n",
       "        vertical-align: middle;\n",
       "    }\n",
       "\n",
       "    .dataframe tbody tr th {\n",
       "        vertical-align: top;\n",
       "    }\n",
       "\n",
       "    .dataframe thead th {\n",
       "        text-align: right;\n",
       "    }\n",
       "</style>\n",
       "<table border=\"1\" class=\"dataframe\">\n",
       "  <thead>\n",
       "    <tr style=\"text-align: right;\">\n",
       "      <th></th>\n",
       "      <th>age</th>\n",
       "      <th>sex</th>\n",
       "      <th>cp</th>\n",
       "      <th>trestbps</th>\n",
       "      <th>chol</th>\n",
       "      <th>fbs</th>\n",
       "      <th>restecg</th>\n",
       "      <th>thalach</th>\n",
       "      <th>exang</th>\n",
       "      <th>oldpeak</th>\n",
       "      <th>slope</th>\n",
       "      <th>ca</th>\n",
       "      <th>thal</th>\n",
       "    </tr>\n",
       "  </thead>\n",
       "  <tbody>\n",
       "    <tr>\n",
       "      <th>179</th>\n",
       "      <td>57</td>\n",
       "      <td>1</td>\n",
       "      <td>0</td>\n",
       "      <td>150</td>\n",
       "      <td>276</td>\n",
       "      <td>0</td>\n",
       "      <td>0</td>\n",
       "      <td>112</td>\n",
       "      <td>1</td>\n",
       "      <td>0.6</td>\n",
       "      <td>1</td>\n",
       "      <td>1</td>\n",
       "      <td>1</td>\n",
       "    </tr>\n",
       "    <tr>\n",
       "      <th>228</th>\n",
       "      <td>59</td>\n",
       "      <td>1</td>\n",
       "      <td>3</td>\n",
       "      <td>170</td>\n",
       "      <td>288</td>\n",
       "      <td>0</td>\n",
       "      <td>0</td>\n",
       "      <td>159</td>\n",
       "      <td>0</td>\n",
       "      <td>0.2</td>\n",
       "      <td>1</td>\n",
       "      <td>0</td>\n",
       "      <td>3</td>\n",
       "    </tr>\n",
       "    <tr>\n",
       "      <th>111</th>\n",
       "      <td>57</td>\n",
       "      <td>1</td>\n",
       "      <td>2</td>\n",
       "      <td>150</td>\n",
       "      <td>126</td>\n",
       "      <td>1</td>\n",
       "      <td>1</td>\n",
       "      <td>173</td>\n",
       "      <td>0</td>\n",
       "      <td>0.2</td>\n",
       "      <td>2</td>\n",
       "      <td>1</td>\n",
       "      <td>3</td>\n",
       "    </tr>\n",
       "    <tr>\n",
       "      <th>246</th>\n",
       "      <td>56</td>\n",
       "      <td>0</td>\n",
       "      <td>0</td>\n",
       "      <td>134</td>\n",
       "      <td>409</td>\n",
       "      <td>0</td>\n",
       "      <td>0</td>\n",
       "      <td>150</td>\n",
       "      <td>1</td>\n",
       "      <td>1.9</td>\n",
       "      <td>1</td>\n",
       "      <td>2</td>\n",
       "      <td>3</td>\n",
       "    </tr>\n",
       "    <tr>\n",
       "      <th>60</th>\n",
       "      <td>71</td>\n",
       "      <td>0</td>\n",
       "      <td>2</td>\n",
       "      <td>110</td>\n",
       "      <td>265</td>\n",
       "      <td>1</td>\n",
       "      <td>0</td>\n",
       "      <td>130</td>\n",
       "      <td>0</td>\n",
       "      <td>0.0</td>\n",
       "      <td>2</td>\n",
       "      <td>1</td>\n",
       "      <td>2</td>\n",
       "    </tr>\n",
       "    <tr>\n",
       "      <th>...</th>\n",
       "      <td>...</td>\n",
       "      <td>...</td>\n",
       "      <td>...</td>\n",
       "      <td>...</td>\n",
       "      <td>...</td>\n",
       "      <td>...</td>\n",
       "      <td>...</td>\n",
       "      <td>...</td>\n",
       "      <td>...</td>\n",
       "      <td>...</td>\n",
       "      <td>...</td>\n",
       "      <td>...</td>\n",
       "      <td>...</td>\n",
       "    </tr>\n",
       "    <tr>\n",
       "      <th>249</th>\n",
       "      <td>69</td>\n",
       "      <td>1</td>\n",
       "      <td>2</td>\n",
       "      <td>140</td>\n",
       "      <td>254</td>\n",
       "      <td>0</td>\n",
       "      <td>0</td>\n",
       "      <td>146</td>\n",
       "      <td>0</td>\n",
       "      <td>2.0</td>\n",
       "      <td>1</td>\n",
       "      <td>3</td>\n",
       "      <td>3</td>\n",
       "    </tr>\n",
       "    <tr>\n",
       "      <th>104</th>\n",
       "      <td>50</td>\n",
       "      <td>1</td>\n",
       "      <td>2</td>\n",
       "      <td>129</td>\n",
       "      <td>196</td>\n",
       "      <td>0</td>\n",
       "      <td>1</td>\n",
       "      <td>163</td>\n",
       "      <td>0</td>\n",
       "      <td>0.0</td>\n",
       "      <td>2</td>\n",
       "      <td>0</td>\n",
       "      <td>2</td>\n",
       "    </tr>\n",
       "    <tr>\n",
       "      <th>300</th>\n",
       "      <td>68</td>\n",
       "      <td>1</td>\n",
       "      <td>0</td>\n",
       "      <td>144</td>\n",
       "      <td>193</td>\n",
       "      <td>1</td>\n",
       "      <td>1</td>\n",
       "      <td>141</td>\n",
       "      <td>0</td>\n",
       "      <td>3.4</td>\n",
       "      <td>1</td>\n",
       "      <td>2</td>\n",
       "      <td>3</td>\n",
       "    </tr>\n",
       "    <tr>\n",
       "      <th>193</th>\n",
       "      <td>60</td>\n",
       "      <td>1</td>\n",
       "      <td>0</td>\n",
       "      <td>145</td>\n",
       "      <td>282</td>\n",
       "      <td>0</td>\n",
       "      <td>0</td>\n",
       "      <td>142</td>\n",
       "      <td>1</td>\n",
       "      <td>2.8</td>\n",
       "      <td>1</td>\n",
       "      <td>2</td>\n",
       "      <td>3</td>\n",
       "    </tr>\n",
       "    <tr>\n",
       "      <th>184</th>\n",
       "      <td>50</td>\n",
       "      <td>1</td>\n",
       "      <td>0</td>\n",
       "      <td>150</td>\n",
       "      <td>243</td>\n",
       "      <td>0</td>\n",
       "      <td>0</td>\n",
       "      <td>128</td>\n",
       "      <td>0</td>\n",
       "      <td>2.6</td>\n",
       "      <td>1</td>\n",
       "      <td>0</td>\n",
       "      <td>3</td>\n",
       "    </tr>\n",
       "  </tbody>\n",
       "</table>\n",
       "<p>61 rows × 13 columns</p>\n",
       "</div>"
      ],
      "text/plain": [
       "     age  sex  cp  trestbps  chol  fbs  restecg  thalach  exang  oldpeak  \\\n",
       "179   57    1   0       150   276    0        0      112      1      0.6   \n",
       "228   59    1   3       170   288    0        0      159      0      0.2   \n",
       "111   57    1   2       150   126    1        1      173      0      0.2   \n",
       "246   56    0   0       134   409    0        0      150      1      1.9   \n",
       "60    71    0   2       110   265    1        0      130      0      0.0   \n",
       "..   ...  ...  ..       ...   ...  ...      ...      ...    ...      ...   \n",
       "249   69    1   2       140   254    0        0      146      0      2.0   \n",
       "104   50    1   2       129   196    0        1      163      0      0.0   \n",
       "300   68    1   0       144   193    1        1      141      0      3.4   \n",
       "193   60    1   0       145   282    0        0      142      1      2.8   \n",
       "184   50    1   0       150   243    0        0      128      0      2.6   \n",
       "\n",
       "     slope  ca  thal  \n",
       "179      1   1     1  \n",
       "228      1   0     3  \n",
       "111      2   1     3  \n",
       "246      1   2     3  \n",
       "60       2   1     2  \n",
       "..     ...  ..   ...  \n",
       "249      1   3     3  \n",
       "104      2   0     2  \n",
       "300      1   2     3  \n",
       "193      1   2     3  \n",
       "184      1   0     3  \n",
       "\n",
       "[61 rows x 13 columns]"
      ]
     },
     "execution_count": 27,
     "metadata": {},
     "output_type": "execute_result"
    }
   ],
   "source": [
    "X_test"
   ]
  },
  {
   "cell_type": "code",
   "execution_count": 28,
   "id": "cc0714f5",
   "metadata": {},
   "outputs": [
    {
     "data": {
      "text/plain": [
       "61"
      ]
     },
     "execution_count": 28,
     "metadata": {},
     "output_type": "execute_result"
    }
   ],
   "source": [
    "len(y_test)"
   ]
  },
  {
   "cell_type": "markdown",
   "id": "1df0d959",
   "metadata": {},
   "source": [
    "Now we've got our data split into training and test sets, it's time to build a machine learning model.\n",
    "\n",
    "We'll train it (find the patterns) on the training set.\n",
    "\n",
    "And we'll test it (use the patterns) on the test set.\n",
    "\n",
    "We're going to try 3 different machine learning models:\n",
    "\n",
    "1. Logistic Regression\n",
    "2. K-Nearest Neighbours Classifier\n",
    "3. Random Forest Classifier"
   ]
  },
  {
   "cell_type": "code",
   "execution_count": 32,
   "id": "a65377b6",
   "metadata": {},
   "outputs": [],
   "source": [
    "models={\"Logistic Regression\":LogisticRegression(),\n",
    "        \"K-Neighbour\":KNeighborsClassifier(),\n",
    "        \"Random Forest\":RandomForestClassifier()\n",
    "       }\n",
    "\n",
    "#  create  function to fit and score model:\n",
    "def fit_and_score(models,X_train,X_test,y_test,t_train):\n",
    "    # Set random seed\n",
    "    np.random.seed(42)\n",
    "    model_scores={}\n",
    "#     loop through model\n",
    "    for name,model in models.items():\n",
    "        model.fit(X_train,y_train)\n",
    "        model_scores[name] = model.score(X_test,y_test)\n",
    "    return model_scores\n",
    "    \n",
    "    \n",
    "    "
   ]
  },
  {
   "cell_type": "code",
   "execution_count": 35,
   "id": "3d6f833b",
   "metadata": {},
   "outputs": [
    {
     "name": "stderr",
     "output_type": "stream",
     "text": [
      "F:\\machine_learning\\heart-disese-project\\env\\lib\\site-packages\\sklearn\\linear_model\\_logistic.py:814: ConvergenceWarning: lbfgs failed to converge (status=1):\n",
      "STOP: TOTAL NO. of ITERATIONS REACHED LIMIT.\n",
      "\n",
      "Increase the number of iterations (max_iter) or scale the data as shown in:\n",
      "    https://scikit-learn.org/stable/modules/preprocessing.html\n",
      "Please also refer to the documentation for alternative solver options:\n",
      "    https://scikit-learn.org/stable/modules/linear_model.html#logistic-regression\n",
      "  n_iter_i = _check_optimize_result(\n"
     ]
    },
    {
     "data": {
      "text/plain": [
       "{'Logistic Regression': 0.8852459016393442,\n",
       " 'K-Neighbour': 0.6885245901639344,\n",
       " 'Random Forest': 0.8360655737704918}"
      ]
     },
     "execution_count": 35,
     "metadata": {},
     "output_type": "execute_result"
    }
   ],
   "source": [
    "model_scores = fit_and_score(models,X_train,X_test,y_test,y_train)\n",
    "model_scores"
   ]
  },
  {
   "cell_type": "markdown",
   "id": "eb50017b",
   "metadata": {},
   "source": [
    "## mdoel comparision"
   ]
  },
  {
   "cell_type": "code",
   "execution_count": 40,
   "id": "e5119c5a",
   "metadata": {},
   "outputs": [
    {
     "data": {
      "image/png": "[encoded data removed]",
      "text/plain": [
       "<Figure size 432x288 with 1 Axes>"
      ]
     },
     "metadata": {
      "needs_background": "light"
     },
     "output_type": "display_data"
    }
   ],
   "source": [
    "model_compare = pd.DataFrame(model_scores,index=['Accuracy'])\n",
    "model_compare.T.plot.bar();"
   ]
  },
  {
   "cell_type": "markdown",
   "id": "188d0b5d",
   "metadata": {},
   "source": [
    "Now we've got a baseline model... and we know a model's first predictions aren't always what we should based our next steps off. What should we do?\n",
    "\n",
    "Let's look at the following:\n",
    "\n",
    "1. Hypyterparameter tuning\n",
    "2. Feature importance\n",
    "3. Confusion matrix\n",
    "4. Cross-validation\n",
    "5. Precision\n",
    "6. Recall\n",
    "7. F1 score\n",
    "8. Classification report\n",
    "9. ROC curve\n",
    "10. Area under the curve (AUC)"
   ]
  },
  {
   "cell_type": "markdown",
   "id": "1b026186",
   "metadata": {},
   "source": [
    "## Hyperparameter tuning(by hand)\n"
   ]
  },
  {
   "cell_type": "code",
   "execution_count": 42,
   "id": "a4898bab",
   "metadata": {},
   "outputs": [],
   "source": [
    "# lets tune KNN\n",
    "\n",
    "train_score=[]\n",
    "test_score=[]\n",
    "\n",
    "# create a  list of different n-neighbours\n",
    "neighbours=range(1,21)\n",
    "\n",
    "# setuo KNN\n",
    "knn = KNeighborsClassifier()\n",
    "\n",
    "# loop through different n_neighbour\n",
    "\n",
    "for i in neighbours:\n",
    "    knn.set_params(n_neighbors=i)\n",
    "    # fit the algorithm\n",
    "    knn.fit(X_train,y_train)\n",
    "    \n",
    "#     update the  train score list\n",
    "    train_score.append(knn.score(X_train,y_train))\n",
    "    \n",
    "#     update the test score\n",
    "    test_score.append(knn.score(X_test,y_test))\n",
    "\n"
   ]
  },
  {
   "cell_type": "code",
   "execution_count": 43,
   "id": "7a4a3276",
   "metadata": {},
   "outputs": [
    {
     "data": {
      "text/plain": [
       "[0.6229508196721312,\n",
       " 0.639344262295082,\n",
       " 0.6557377049180327,\n",
       " 0.6721311475409836,\n",
       " 0.6885245901639344,\n",
       " 0.7213114754098361,\n",
       " 0.7049180327868853,\n",
       " 0.6885245901639344,\n",
       " 0.6885245901639344,\n",
       " 0.7049180327868853,\n",
       " 0.7540983606557377,\n",
       " 0.7377049180327869,\n",
       " 0.7377049180327869,\n",
       " 0.7377049180327869,\n",
       " 0.6885245901639344,\n",
       " 0.7213114754098361,\n",
       " 0.6885245901639344,\n",
       " 0.6885245901639344,\n",
       " 0.7049180327868853,\n",
       " 0.6557377049180327]"
      ]
     },
     "execution_count": 43,
     "metadata": {},
     "output_type": "execute_result"
    }
   ],
   "source": [
    "test_score"
   ]
  },
  {
   "cell_type": "code",
   "execution_count": 44,
   "id": "1841a130",
   "metadata": {},
   "outputs": [
    {
     "data": {
      "text/plain": [
       "[1.0,\n",
       " 0.8099173553719008,\n",
       " 0.7727272727272727,\n",
       " 0.743801652892562,\n",
       " 0.7603305785123967,\n",
       " 0.7520661157024794,\n",
       " 0.743801652892562,\n",
       " 0.7231404958677686,\n",
       " 0.71900826446281,\n",
       " 0.6942148760330579,\n",
       " 0.7272727272727273,\n",
       " 0.6983471074380165,\n",
       " 0.6900826446280992,\n",
       " 0.6942148760330579,\n",
       " 0.6859504132231405,\n",
       " 0.6735537190082644,\n",
       " 0.6859504132231405,\n",
       " 0.6652892561983471,\n",
       " 0.6818181818181818,\n",
       " 0.6694214876033058]"
      ]
     },
     "execution_count": 44,
     "metadata": {},
     "output_type": "execute_result"
    }
   ],
   "source": [
    "train_score"
   ]
  },
  {
   "cell_type": "code",
   "execution_count": 48,
   "id": "b59eef66",
   "metadata": {},
   "outputs": [
    {
     "name": "stdout",
     "output_type": "stream",
     "text": [
      "Themaximum Knn score on the test data:75.41%\n"
     ]
    },
    {
     "data": {
      "image/png": "[encoded data removed]",
      "text/plain": [
       "<Figure size 432x288 with 1 Axes>"
      ]
     },
     "metadata": {
      "needs_background": "light"
     },
     "output_type": "display_data"
    }
   ],
   "source": [
    "plt.plot(neighbours,train_score,label=\"Train_Scores\")\n",
    "plt.plot(neighbours,test_score,label=\"Test_Scores\")\n",
    "plt.xticks(np.arange(1,21,1))\n",
    "plt.xlabel(\"Numbers of neighbours\")\n",
    "plt.ylabel(\"Model Scores\")\n",
    "plt.legend()\n",
    "\n",
    "print(f\"Themaximum Knn score on the test data:{max(test_score)*100:.2f}%\")"
   ]
  },
  {
   "cell_type": "markdown",
   "id": "7fd7bc58",
   "metadata": {},
   "source": [
    "## Hyperparameter tuning with RandomizedSearchCV\n",
    "We're going to tune:\n",
    "\n",
    "* LogisticRegression()\n",
    "* RandomForestClassifier()\n",
    "... using RandomizedSearchCV"
   ]
  },
  {
   "cell_type": "code",
   "execution_count": 52,
   "id": "a1a00514",
   "metadata": {},
   "outputs": [],
   "source": [
    "#  create a hyperparameter gris for logistic regression\n",
    "log_reg_grid={\"C\":np.logspace(-4,4,20),\n",
    "             \"solver\":[\"liblinear\"]}\n",
    "# Create a hyperparameter grid for RandomForestClassifier\n",
    "rf_grid = {\"n_estimators\": np.arange(10, 1000, 50),\n",
    "           \"max_depth\": [None, 3, 5, 10],\n",
    "           \"min_samples_split\": np.arange(2, 20, 2),\n",
    "           \"min_samples_leaf\": np.arange(1, 20, 2)}"
   ]
  },
  {
   "cell_type": "markdown",
   "id": "e53385c5",
   "metadata": {},
   "source": [
    "Now we've got hyperparameter grids setup for each of our models, let's tune them using RandomizedSearchCV..."
   ]
  },
  {
   "cell_type": "code",
   "execution_count": 54,
   "id": "841a5ab3",
   "metadata": {},
   "outputs": [
    {
     "name": "stdout",
     "output_type": "stream",
     "text": [
      "Fitting 5 folds for each of 20 candidates, totalling 100 fits\n",
      "[CV 1/5; 1/20] START C=0.0001, solver=liblinear.................................\n",
      "[CV 1/5; 1/20] END ..C=0.0001, solver=liblinear;, score=0.653 total time=   0.0s\n",
      "[CV 2/5; 1/20] START C=0.0001, solver=liblinear.................................\n",
      "[CV 2/5; 1/20] END ..C=0.0001, solver=liblinear;, score=0.633 total time=   0.0s\n",
      "[CV 3/5; 1/20] START C=0.0001, solver=liblinear.................................\n",
      "[CV 3/5; 1/20] END ..C=0.0001, solver=liblinear;, score=0.625 total time=   0.0s\n",
      "[CV 4/5; 1/20] START C=0.0001, solver=liblinear.................................\n",
      "[CV 4/5; 1/20] END ..C=0.0001, solver=liblinear;, score=0.604 total time=   0.0s\n",
      "[CV 5/5; 1/20] START C=0.0001, solver=liblinear.................................\n",
      "[CV 5/5; 1/20] END ..C=0.0001, solver=liblinear;, score=0.750 total time=   0.0s\n",
      "[CV 1/5; 2/20] START C=0.00026366508987303583, solver=liblinear.................\n",
      "[CV 1/5; 2/20] END C=0.00026366508987303583, solver=liblinear;, score=0.694 total time=   0.0s\n",
      "[CV 2/5; 2/20] START C=0.00026366508987303583, solver=liblinear.................\n",
      "[CV 2/5; 2/20] END C=0.00026366508987303583, solver=liblinear;, score=0.673 total time=   0.0s\n",
      "[CV 3/5; 2/20] START C=0.00026366508987303583, solver=liblinear.................\n",
      "[CV 3/5; 2/20] END C=0.00026366508987303583, solver=liblinear;, score=0.625 total time=   0.0s\n",
      "[CV 4/5; 2/20] START C=0.00026366508987303583, solver=liblinear.................\n",
      "[CV 4/5; 2/20] END C=0.00026366508987303583, solver=liblinear;, score=0.625 total time=   0.0s\n",
      "[CV 5/5; 2/20] START C=0.00026366508987303583, solver=liblinear.................\n",
      "[CV 5/5; 2/20] END C=0.00026366508987303583, solver=liblinear;, score=0.729 total time=   0.0s\n",
      "[CV 1/5; 3/20] START C=0.0006951927961775605, solver=liblinear..................\n",
      "[CV 1/5; 3/20] END C=0.0006951927961775605, solver=liblinear;, score=0.735 total time=   0.0s\n",
      "[CV 2/5; 3/20] START C=0.0006951927961775605, solver=liblinear..................\n",
      "[CV 2/5; 3/20] END C=0.0006951927961775605, solver=liblinear;, score=0.612 total time=   0.0s\n",
      "[CV 3/5; 3/20] START C=0.0006951927961775605, solver=liblinear..................\n",
      "[CV 3/5; 3/20] END C=0.0006951927961775605, solver=liblinear;, score=0.646 total time=   0.0s\n",
      "[CV 4/5; 3/20] START C=0.0006951927961775605, solver=liblinear..................\n",
      "[CV 4/5; 3/20] END C=0.0006951927961775605, solver=liblinear;, score=0.604 total time=   0.0s\n",
      "[CV 5/5; 3/20] START C=0.0006951927961775605, solver=liblinear..................\n",
      "[CV 5/5; 3/20] END C=0.0006951927961775605, solver=liblinear;, score=0.708 total time=   0.0s\n",
      "[CV 1/5; 4/20] START C=0.0018329807108324356, solver=liblinear..................\n",
      "[CV 1/5; 4/20] END C=0.0018329807108324356, solver=liblinear;, score=0.735 total time=   0.0s\n",
      "[CV 2/5; 4/20] START C=0.0018329807108324356, solver=liblinear..................\n",
      "[CV 2/5; 4/20] END C=0.0018329807108324356, solver=liblinear;, score=0.653 total time=   0.0s\n",
      "[CV 3/5; 4/20] START C=0.0018329807108324356, solver=liblinear..................\n",
      "[CV 3/5; 4/20] END C=0.0018329807108324356, solver=liblinear;, score=0.667 total time=   0.0s\n",
      "[CV 4/5; 4/20] START C=0.0018329807108324356, solver=liblinear..................\n",
      "[CV 4/5; 4/20] END C=0.0018329807108324356, solver=liblinear;, score=0.604 total time=   0.0s\n",
      "[CV 5/5; 4/20] START C=0.0018329807108324356, solver=liblinear..................\n",
      "[CV 5/5; 4/20] END C=0.0018329807108324356, solver=liblinear;, score=0.708 total time=   0.0s\n",
      "[CV 1/5; 5/20] START C=0.004832930238571752, solver=liblinear...................\n",
      "[CV 1/5; 5/20] END C=0.004832930238571752, solver=liblinear;, score=0.755 total time=   0.0s\n",
      "[CV 2/5; 5/20] START C=0.004832930238571752, solver=liblinear...................\n",
      "[CV 2/5; 5/20] END C=0.004832930238571752, solver=liblinear;, score=0.694 total time=   0.0s\n",
      "[CV 3/5; 5/20] START C=0.004832930238571752, solver=liblinear...................\n",
      "[CV 3/5; 5/20] END C=0.004832930238571752, solver=liblinear;, score=0.708 total time=   0.0s\n",
      "[CV 4/5; 5/20] START C=0.004832930238571752, solver=liblinear...................\n",
      "[CV 4/5; 5/20] END C=0.004832930238571752, solver=liblinear;, score=0.583 total time=   0.0s\n",
      "[CV 5/5; 5/20] START C=0.004832930238571752, solver=liblinear...................\n",
      "[CV 5/5; 5/20] END C=0.004832930238571752, solver=liblinear;, score=0.771 total time=   0.0s\n",
      "[CV 1/5; 6/20] START C=0.012742749857031334, solver=liblinear...................\n",
      "[CV 1/5; 6/20] END C=0.012742749857031334, solver=liblinear;, score=0.776 total time=   0.0s\n",
      "[CV 2/5; 6/20] START C=0.012742749857031334, solver=liblinear...................\n",
      "[CV 2/5; 6/20] END C=0.012742749857031334, solver=liblinear;, score=0.776 total time=   0.0s\n",
      "[CV 3/5; 6/20] START C=0.012742749857031334, solver=liblinear...................\n",
      "[CV 3/5; 6/20] END C=0.012742749857031334, solver=liblinear;, score=0.729 total time=   0.0s\n",
      "[CV 4/5; 6/20] START C=0.012742749857031334, solver=liblinear...................\n",
      "[CV 4/5; 6/20] END C=0.012742749857031334, solver=liblinear;, score=0.667 total time=   0.0s\n",
      "[CV 5/5; 6/20] START C=0.012742749857031334, solver=liblinear...................\n",
      "[CV 5/5; 6/20] END C=0.012742749857031334, solver=liblinear;, score=0.771 total time=   0.0s\n",
      "[CV 1/5; 7/20] START C=0.03359818286283781, solver=liblinear....................\n",
      "[CV 1/5; 7/20] END C=0.03359818286283781, solver=liblinear;, score=0.816 total time=   0.0s\n",
      "[CV 2/5; 7/20] START C=0.03359818286283781, solver=liblinear....................\n",
      "[CV 2/5; 7/20] END C=0.03359818286283781, solver=liblinear;, score=0.796 total time=   0.0s\n",
      "[CV 3/5; 7/20] START C=0.03359818286283781, solver=liblinear....................\n",
      "[CV 3/5; 7/20] END C=0.03359818286283781, solver=liblinear;, score=0.750 total time=   0.0s\n",
      "[CV 4/5; 7/20] START C=0.03359818286283781, solver=liblinear....................\n",
      "[CV 4/5; 7/20] END C=0.03359818286283781, solver=liblinear;, score=0.771 total time=   0.0s\n",
      "[CV 5/5; 7/20] START C=0.03359818286283781, solver=liblinear....................\n",
      "[CV 5/5; 7/20] END C=0.03359818286283781, solver=liblinear;, score=0.792 total time=   0.0s\n",
      "[CV 1/5; 8/20] START C=0.08858667904100823, solver=liblinear....................\n",
      "[CV 1/5; 8/20] END C=0.08858667904100823, solver=liblinear;, score=0.776 total time=   0.0s\n",
      "[CV 2/5; 8/20] START C=0.08858667904100823, solver=liblinear....................\n",
      "[CV 2/5; 8/20] END C=0.08858667904100823, solver=liblinear;, score=0.796 total time=   0.0s\n",
      "[CV 3/5; 8/20] START C=0.08858667904100823, solver=liblinear....................\n",
      "[CV 3/5; 8/20] END C=0.08858667904100823, solver=liblinear;, score=0.792 total time=   0.0s\n",
      "[CV 4/5; 8/20] START C=0.08858667904100823, solver=liblinear....................\n",
      "[CV 4/5; 8/20] END C=0.08858667904100823, solver=liblinear;, score=0.812 total time=   0.0s\n",
      "[CV 5/5; 8/20] START C=0.08858667904100823, solver=liblinear....................\n",
      "[CV 5/5; 8/20] END C=0.08858667904100823, solver=liblinear;, score=0.833 total time=   0.0s\n",
      "[CV 1/5; 9/20] START C=0.23357214690901212, solver=liblinear....................\n",
      "[CV 1/5; 9/20] END C=0.23357214690901212, solver=liblinear;, score=0.837 total time=   0.0s\n",
      "[CV 2/5; 9/20] START C=0.23357214690901212, solver=liblinear....................\n",
      "[CV 2/5; 9/20] END C=0.23357214690901212, solver=liblinear;, score=0.857 total time=   0.0s\n",
      "[CV 3/5; 9/20] START C=0.23357214690901212, solver=liblinear....................\n",
      "[CV 3/5; 9/20] END C=0.23357214690901212, solver=liblinear;, score=0.812 total time=   0.0s\n",
      "[CV 4/5; 9/20] START C=0.23357214690901212, solver=liblinear....................\n",
      "[CV 4/5; 9/20] END C=0.23357214690901212, solver=liblinear;, score=0.854 total time=   0.0s\n",
      "[CV 5/5; 9/20] START C=0.23357214690901212, solver=liblinear....................\n",
      "[CV 5/5; 9/20] END C=0.23357214690901212, solver=liblinear;, score=0.812 total time=   0.0s\n",
      "[CV 1/5; 10/20] START C=0.615848211066026, solver=liblinear.....................\n",
      "[CV 1/5; 10/20] END C=0.615848211066026, solver=liblinear;, score=0.796 total time=   0.0s\n",
      "[CV 2/5; 10/20] START C=0.615848211066026, solver=liblinear.....................\n",
      "[CV 2/5; 10/20] END C=0.615848211066026, solver=liblinear;, score=0.857 total time=   0.0s\n",
      "[CV 3/5; 10/20] START C=0.615848211066026, solver=liblinear.....................\n",
      "[CV 3/5; 10/20] END C=0.615848211066026, solver=liblinear;, score=0.792 total time=   0.0s\n",
      "[CV 4/5; 10/20] START C=0.615848211066026, solver=liblinear.....................\n",
      "[CV 4/5; 10/20] END C=0.615848211066026, solver=liblinear;, score=0.854 total time=   0.0s\n",
      "[CV 5/5; 10/20] START C=0.615848211066026, solver=liblinear.....................\n"
     ]
    },
    {
     "name": "stdout",
     "output_type": "stream",
     "text": [
      "[CV 5/5; 10/20] END C=0.615848211066026, solver=liblinear;, score=0.792 total time=   0.0s\n",
      "[CV 1/5; 11/20] START C=1.623776739188721, solver=liblinear.....................\n",
      "[CV 1/5; 11/20] END C=1.623776739188721, solver=liblinear;, score=0.776 total time=   0.0s\n",
      "[CV 2/5; 11/20] START C=1.623776739188721, solver=liblinear.....................\n",
      "[CV 2/5; 11/20] END C=1.623776739188721, solver=liblinear;, score=0.878 total time=   0.0s\n",
      "[CV 3/5; 11/20] START C=1.623776739188721, solver=liblinear.....................\n",
      "[CV 3/5; 11/20] END C=1.623776739188721, solver=liblinear;, score=0.792 total time=   0.0s\n",
      "[CV 4/5; 11/20] START C=1.623776739188721, solver=liblinear.....................\n",
      "[CV 4/5; 11/20] END C=1.623776739188721, solver=liblinear;, score=0.854 total time=   0.0s\n",
      "[CV 5/5; 11/20] START C=1.623776739188721, solver=liblinear.....................\n",
      "[CV 5/5; 11/20] END C=1.623776739188721, solver=liblinear;, score=0.792 total time=   0.0s\n",
      "[CV 1/5; 12/20] START C=4.281332398719396, solver=liblinear.....................\n",
      "[CV 1/5; 12/20] END C=4.281332398719396, solver=liblinear;, score=0.776 total time=   0.0s\n",
      "[CV 2/5; 12/20] START C=4.281332398719396, solver=liblinear.....................\n",
      "[CV 2/5; 12/20] END C=4.281332398719396, solver=liblinear;, score=0.878 total time=   0.0s\n",
      "[CV 3/5; 12/20] START C=4.281332398719396, solver=liblinear.....................\n",
      "[CV 3/5; 12/20] END C=4.281332398719396, solver=liblinear;, score=0.792 total time=   0.0s\n",
      "[CV 4/5; 12/20] START C=4.281332398719396, solver=liblinear.....................\n",
      "[CV 4/5; 12/20] END C=4.281332398719396, solver=liblinear;, score=0.854 total time=   0.0s\n",
      "[CV 5/5; 12/20] START C=4.281332398719396, solver=liblinear.....................\n",
      "[CV 5/5; 12/20] END C=4.281332398719396, solver=liblinear;, score=0.792 total time=   0.0s\n",
      "[CV 1/5; 13/20] START C=11.288378916846883, solver=liblinear....................\n",
      "[CV 1/5; 13/20] END C=11.288378916846883, solver=liblinear;, score=0.776 total time=   0.0s\n",
      "[CV 2/5; 13/20] START C=11.288378916846883, solver=liblinear....................\n",
      "[CV 2/5; 13/20] END C=11.288378916846883, solver=liblinear;, score=0.878 total time=   0.0s\n",
      "[CV 3/5; 13/20] START C=11.288378916846883, solver=liblinear....................\n",
      "[CV 3/5; 13/20] END C=11.288378916846883, solver=liblinear;, score=0.792 total time=   0.0s\n",
      "[CV 4/5; 13/20] START C=11.288378916846883, solver=liblinear....................\n",
      "[CV 4/5; 13/20] END C=11.288378916846883, solver=liblinear;, score=0.833 total time=   0.0s\n",
      "[CV 5/5; 13/20] START C=11.288378916846883, solver=liblinear....................\n",
      "[CV 5/5; 13/20] END C=11.288378916846883, solver=liblinear;, score=0.771 total time=   0.0s\n",
      "[CV 1/5; 14/20] START C=29.763514416313132, solver=liblinear....................\n",
      "[CV 1/5; 14/20] END C=29.763514416313132, solver=liblinear;, score=0.776 total time=   0.0s\n",
      "[CV 2/5; 14/20] START C=29.763514416313132, solver=liblinear....................\n",
      "[CV 2/5; 14/20] END C=29.763514416313132, solver=liblinear;, score=0.898 total time=   0.0s\n",
      "[CV 3/5; 14/20] START C=29.763514416313132, solver=liblinear....................\n",
      "[CV 3/5; 14/20] END C=29.763514416313132, solver=liblinear;, score=0.771 total time=   0.0s\n",
      "[CV 4/5; 14/20] START C=29.763514416313132, solver=liblinear....................\n",
      "[CV 4/5; 14/20] END C=29.763514416313132, solver=liblinear;, score=0.833 total time=   0.0s\n",
      "[CV 5/5; 14/20] START C=29.763514416313132, solver=liblinear....................\n",
      "[CV 5/5; 14/20] END C=29.763514416313132, solver=liblinear;, score=0.771 total time=   0.0s\n",
      "[CV 1/5; 15/20] START C=78.47599703514607, solver=liblinear.....................\n",
      "[CV 1/5; 15/20] END C=78.47599703514607, solver=liblinear;, score=0.776 total time=   0.0s\n",
      "[CV 2/5; 15/20] START C=78.47599703514607, solver=liblinear.....................\n",
      "[CV 2/5; 15/20] END C=78.47599703514607, solver=liblinear;, score=0.918 total time=   0.0s\n",
      "[CV 3/5; 15/20] START C=78.47599703514607, solver=liblinear.....................\n",
      "[CV 3/5; 15/20] END C=78.47599703514607, solver=liblinear;, score=0.771 total time=   0.0s\n",
      "[CV 4/5; 15/20] START C=78.47599703514607, solver=liblinear.....................\n",
      "[CV 4/5; 15/20] END C=78.47599703514607, solver=liblinear;, score=0.833 total time=   0.0s\n",
      "[CV 5/5; 15/20] START C=78.47599703514607, solver=liblinear.....................\n",
      "[CV 5/5; 15/20] END C=78.47599703514607, solver=liblinear;, score=0.792 total time=   0.0s\n",
      "[CV 1/5; 16/20] START C=206.913808111479, solver=liblinear......................\n",
      "[CV 1/5; 16/20] END C=206.913808111479, solver=liblinear;, score=0.776 total time=   0.0s\n",
      "[CV 2/5; 16/20] START C=206.913808111479, solver=liblinear......................\n",
      "[CV 2/5; 16/20] END C=206.913808111479, solver=liblinear;, score=0.918 total time=   0.0s\n",
      "[CV 3/5; 16/20] START C=206.913808111479, solver=liblinear......................\n",
      "[CV 3/5; 16/20] END C=206.913808111479, solver=liblinear;, score=0.771 total time=   0.0s\n",
      "[CV 4/5; 16/20] START C=206.913808111479, solver=liblinear......................\n",
      "[CV 4/5; 16/20] END C=206.913808111479, solver=liblinear;, score=0.833 total time=   0.0s\n",
      "[CV 5/5; 16/20] START C=206.913808111479, solver=liblinear......................\n",
      "[CV 5/5; 16/20] END C=206.913808111479, solver=liblinear;, score=0.792 total time=   0.0s\n",
      "[CV 1/5; 17/20] START C=545.5594781168514, solver=liblinear.....................\n",
      "[CV 1/5; 17/20] END C=545.5594781168514, solver=liblinear;, score=0.776 total time=   0.0s\n",
      "[CV 2/5; 17/20] START C=545.5594781168514, solver=liblinear.....................\n",
      "[CV 2/5; 17/20] END C=545.5594781168514, solver=liblinear;, score=0.918 total time=   0.0s\n",
      "[CV 3/5; 17/20] START C=545.5594781168514, solver=liblinear.....................\n",
      "[CV 3/5; 17/20] END C=545.5594781168514, solver=liblinear;, score=0.771 total time=   0.0s\n",
      "[CV 4/5; 17/20] START C=545.5594781168514, solver=liblinear.....................\n",
      "[CV 4/5; 17/20] END C=545.5594781168514, solver=liblinear;, score=0.833 total time=   0.0s\n",
      "[CV 5/5; 17/20] START C=545.5594781168514, solver=liblinear.....................\n",
      "[CV 5/5; 17/20] END C=545.5594781168514, solver=liblinear;, score=0.792 total time=   0.0s\n",
      "[CV 1/5; 18/20] START C=1438.44988828766, solver=liblinear......................\n",
      "[CV 1/5; 18/20] END C=1438.44988828766, solver=liblinear;, score=0.776 total time=   0.0s\n",
      "[CV 2/5; 18/20] START C=1438.44988828766, solver=liblinear......................\n",
      "[CV 2/5; 18/20] END C=1438.44988828766, solver=liblinear;, score=0.918 total time=   0.0s\n",
      "[CV 3/5; 18/20] START C=1438.44988828766, solver=liblinear......................\n",
      "[CV 3/5; 18/20] END C=1438.44988828766, solver=liblinear;, score=0.771 total time=   0.0s\n",
      "[CV 4/5; 18/20] START C=1438.44988828766, solver=liblinear......................\n",
      "[CV 4/5; 18/20] END C=1438.44988828766, solver=liblinear;, score=0.833 total time=   0.0s\n",
      "[CV 5/5; 18/20] START C=1438.44988828766, solver=liblinear......................\n",
      "[CV 5/5; 18/20] END C=1438.44988828766, solver=liblinear;, score=0.792 total time=   0.0s\n",
      "[CV 1/5; 19/20] START C=3792.690190732246, solver=liblinear.....................\n",
      "[CV 1/5; 19/20] END C=3792.690190732246, solver=liblinear;, score=0.776 total time=   0.0s\n",
      "[CV 2/5; 19/20] START C=3792.690190732246, solver=liblinear.....................\n",
      "[CV 2/5; 19/20] END C=3792.690190732246, solver=liblinear;, score=0.918 total time=   0.0s\n",
      "[CV 3/5; 19/20] START C=3792.690190732246, solver=liblinear.....................\n",
      "[CV 3/5; 19/20] END C=3792.690190732246, solver=liblinear;, score=0.771 total time=   0.0s\n",
      "[CV 4/5; 19/20] START C=3792.690190732246, solver=liblinear.....................\n",
      "[CV 4/5; 19/20] END C=3792.690190732246, solver=liblinear;, score=0.833 total time=   0.0s\n",
      "[CV 5/5; 19/20] START C=3792.690190732246, solver=liblinear.....................\n",
      "[CV 5/5; 19/20] END C=3792.690190732246, solver=liblinear;, score=0.792 total time=   0.0s\n",
      "[CV 1/5; 20/20] START C=10000.0, solver=liblinear...............................\n",
      "[CV 1/5; 20/20] END C=10000.0, solver=liblinear;, score=0.776 total time=   0.0s\n",
      "[CV 2/5; 20/20] START C=10000.0, solver=liblinear...............................\n",
      "[CV 2/5; 20/20] END C=10000.0, solver=liblinear;, score=0.918 total time=   0.0s\n",
      "[CV 3/5; 20/20] START C=10000.0, solver=liblinear...............................\n",
      "[CV 3/5; 20/20] END C=10000.0, solver=liblinear;, score=0.771 total time=   0.0s\n",
      "[CV 4/5; 20/20] START C=10000.0, solver=liblinear...............................\n",
      "[CV 4/5; 20/20] END C=10000.0, solver=liblinear;, score=0.833 total time=   0.0s\n",
      "[CV 5/5; 20/20] START C=10000.0, solver=liblinear...............................\n",
      "[CV 5/5; 20/20] END C=10000.0, solver=liblinear;, score=0.792 total time=   0.0s\n"
     ]
    },
    {
     "data": {
      "text/plain": [
       "RandomizedSearchCV(cv=5, estimator=LogisticRegression(), n_iter=20,\n",
       "                   param_distributions={'C': array([1.00000000e-04, 2.63665090e-04, 6.95192796e-04, 1.83298071e-03,\n",
       "       4.83293024e-03, 1.27427499e-02, 3.35981829e-02, 8.85866790e-02,\n",
       "       2.33572147e-01, 6.15848211e-01, 1.62377674e+00, 4.28133240e+00,\n",
       "       1.12883789e+01, 2.97635144e+01, 7.84759970e+01, 2.06913808e+02,\n",
       "       5.45559478e+02, 1.43844989e+03, 3.79269019e+03, 1.00000000e+04]),\n",
       "                                        'solver': ['liblinear']},\n",
       "                   verbose=20)"
      ]
     },
     "execution_count": 54,
     "metadata": {},
     "output_type": "execute_result"
    }
   ],
   "source": [
    "np.random.seed(42)\n",
    "# setup random hyperpameter search for logistic regression\n",
    "\n",
    "rs_log_reg = RandomizedSearchCV(LogisticRegression(),\n",
    "                                param_distributions=log_reg_grid,\n",
    "                                cv=5,\n",
    "                                n_iter=20,\n",
    "                                verbose=20\n",
    "                               )\n",
    "rs_log_reg.fit(X_train,y_train)"
   ]
  },
  {
   "cell_type": "code",
   "execution_count": 55,
   "id": "e369613c",
   "metadata": {},
   "outputs": [
    {
     "data": {
      "text/plain": [
       "{'solver': 'liblinear', 'C': 0.23357214690901212}"
      ]
     },
     "execution_count": 55,
     "metadata": {},
     "output_type": "execute_result"
    }
   ],
   "source": [
    "\n",
    "rs_log_reg.best_params_"
   ]
  },
  {
   "cell_type": "code",
   "execution_count": 61,
   "id": "4348ab56",
   "metadata": {},
   "outputs": [
    {
     "data": {
      "text/plain": [
       "0.8852459016393442"
      ]
     },
     "execution_count": 61,
     "metadata": {},
     "output_type": "execute_result"
    }
   ],
   "source": [
    "rs_log_reg.score(X_test,y_test)"
   ]
  },
  {
   "cell_type": "markdown",
   "id": "510a152c",
   "metadata": {},
   "source": [
    "Now lets use RandomizedSearchCV for random forest"
   ]
  },
  {
   "cell_type": "code",
   "execution_count": 58,
   "id": "b4c8aa94",
   "metadata": {},
   "outputs": [
    {
     "name": "stdout",
     "output_type": "stream",
     "text": [
      "Fitting 5 folds for each of 20 candidates, totalling 100 fits\n",
      "[CV 1/5; 1/20] START max_depth=None, min_samples_leaf=9, min_samples_split=16, n_estimators=10\n",
      "[CV 1/5; 1/20] END max_depth=None, min_samples_leaf=9, min_samples_split=16, n_estimators=10;, score=0.816 total time=   0.0s\n",
      "[CV 2/5; 1/20] START max_depth=None, min_samples_leaf=9, min_samples_split=16, n_estimators=10\n",
      "[CV 2/5; 1/20] END max_depth=None, min_samples_leaf=9, min_samples_split=16, n_estimators=10;, score=0.857 total time=   0.0s\n",
      "[CV 3/5; 1/20] START max_depth=None, min_samples_leaf=9, min_samples_split=16, n_estimators=10\n",
      "[CV 3/5; 1/20] END max_depth=None, min_samples_leaf=9, min_samples_split=16, n_estimators=10;, score=0.792 total time=   0.0s\n",
      "[CV 4/5; 1/20] START max_depth=None, min_samples_leaf=9, min_samples_split=16, n_estimators=10\n",
      "[CV 4/5; 1/20] END max_depth=None, min_samples_leaf=9, min_samples_split=16, n_estimators=10;, score=0.792 total time=   0.0s\n",
      "[CV 5/5; 1/20] START max_depth=None, min_samples_leaf=9, min_samples_split=16, n_estimators=10\n",
      "[CV 5/5; 1/20] END max_depth=None, min_samples_leaf=9, min_samples_split=16, n_estimators=10;, score=0.812 total time=   0.0s\n",
      "[CV 1/5; 2/20] START max_depth=5, min_samples_leaf=19, min_samples_split=18, n_estimators=510\n",
      "[CV 1/5; 2/20] END max_depth=5, min_samples_leaf=19, min_samples_split=18, n_estimators=510;, score=0.816 total time=   1.1s\n",
      "[CV 2/5; 2/20] START max_depth=5, min_samples_leaf=19, min_samples_split=18, n_estimators=510\n",
      "[CV 2/5; 2/20] END max_depth=5, min_samples_leaf=19, min_samples_split=18, n_estimators=510;, score=0.857 total time=   0.8s\n",
      "[CV 3/5; 2/20] START max_depth=5, min_samples_leaf=19, min_samples_split=18, n_estimators=510\n",
      "[CV 3/5; 2/20] END max_depth=5, min_samples_leaf=19, min_samples_split=18, n_estimators=510;, score=0.812 total time=   0.9s\n",
      "[CV 4/5; 2/20] START max_depth=5, min_samples_leaf=19, min_samples_split=18, n_estimators=510\n",
      "[CV 4/5; 2/20] END max_depth=5, min_samples_leaf=19, min_samples_split=18, n_estimators=510;, score=0.833 total time=   1.1s\n",
      "[CV 5/5; 2/20] START max_depth=5, min_samples_leaf=19, min_samples_split=18, n_estimators=510\n",
      "[CV 5/5; 2/20] END max_depth=5, min_samples_leaf=19, min_samples_split=18, n_estimators=510;, score=0.771 total time=   0.9s\n",
      "[CV 1/5; 3/20] START max_depth=5, min_samples_leaf=19, min_samples_split=2, n_estimators=310\n",
      "[CV 1/5; 3/20] END max_depth=5, min_samples_leaf=19, min_samples_split=2, n_estimators=310;, score=0.796 total time=   0.6s\n",
      "[CV 2/5; 3/20] START max_depth=5, min_samples_leaf=19, min_samples_split=2, n_estimators=310\n",
      "[CV 2/5; 3/20] END max_depth=5, min_samples_leaf=19, min_samples_split=2, n_estimators=310;, score=0.837 total time=   0.4s\n",
      "[CV 3/5; 3/20] START max_depth=5, min_samples_leaf=19, min_samples_split=2, n_estimators=310\n",
      "[CV 3/5; 3/20] END max_depth=5, min_samples_leaf=19, min_samples_split=2, n_estimators=310;, score=0.812 total time=   0.4s\n",
      "[CV 4/5; 3/20] START max_depth=5, min_samples_leaf=19, min_samples_split=2, n_estimators=310\n",
      "[CV 4/5; 3/20] END max_depth=5, min_samples_leaf=19, min_samples_split=2, n_estimators=310;, score=0.833 total time=   0.5s\n",
      "[CV 5/5; 3/20] START max_depth=5, min_samples_leaf=19, min_samples_split=2, n_estimators=310\n",
      "[CV 5/5; 3/20] END max_depth=5, min_samples_leaf=19, min_samples_split=2, n_estimators=310;, score=0.792 total time=   0.5s\n",
      "[CV 1/5; 4/20] START max_depth=5, min_samples_leaf=17, min_samples_split=16, n_estimators=560\n",
      "[CV 1/5; 4/20] END max_depth=5, min_samples_leaf=17, min_samples_split=16, n_estimators=560;, score=0.796 total time=   1.1s\n",
      "[CV 2/5; 4/20] START max_depth=5, min_samples_leaf=17, min_samples_split=16, n_estimators=560\n",
      "[CV 2/5; 4/20] END max_depth=5, min_samples_leaf=17, min_samples_split=16, n_estimators=560;, score=0.837 total time=   1.3s\n",
      "[CV 3/5; 4/20] START max_depth=5, min_samples_leaf=17, min_samples_split=16, n_estimators=560\n",
      "[CV 3/5; 4/20] END max_depth=5, min_samples_leaf=17, min_samples_split=16, n_estimators=560;, score=0.812 total time=   1.1s\n",
      "[CV 4/5; 4/20] START max_depth=5, min_samples_leaf=17, min_samples_split=16, n_estimators=560\n",
      "[CV 4/5; 4/20] END max_depth=5, min_samples_leaf=17, min_samples_split=16, n_estimators=560;, score=0.833 total time=   1.3s\n",
      "[CV 5/5; 4/20] START max_depth=5, min_samples_leaf=17, min_samples_split=16, n_estimators=560\n",
      "[CV 5/5; 4/20] END max_depth=5, min_samples_leaf=17, min_samples_split=16, n_estimators=560;, score=0.812 total time=   1.1s\n",
      "[CV 1/5; 5/20] START max_depth=5, min_samples_leaf=1, min_samples_split=18, n_estimators=610\n",
      "[CV 1/5; 5/20] END max_depth=5, min_samples_leaf=1, min_samples_split=18, n_estimators=610;, score=0.816 total time=   1.5s\n",
      "[CV 2/5; 5/20] START max_depth=5, min_samples_leaf=1, min_samples_split=18, n_estimators=610\n",
      "[CV 2/5; 5/20] END max_depth=5, min_samples_leaf=1, min_samples_split=18, n_estimators=610;, score=0.837 total time=   1.1s\n",
      "[CV 3/5; 5/20] START max_depth=5, min_samples_leaf=1, min_samples_split=18, n_estimators=610\n",
      "[CV 3/5; 5/20] END max_depth=5, min_samples_leaf=1, min_samples_split=18, n_estimators=610;, score=0.792 total time=   1.1s\n",
      "[CV 4/5; 5/20] START max_depth=5, min_samples_leaf=1, min_samples_split=18, n_estimators=610\n",
      "[CV 4/5; 5/20] END max_depth=5, min_samples_leaf=1, min_samples_split=18, n_estimators=610;, score=0.833 total time=   1.6s\n",
      "[CV 5/5; 5/20] START max_depth=5, min_samples_leaf=1, min_samples_split=18, n_estimators=610\n",
      "[CV 5/5; 5/20] END max_depth=5, min_samples_leaf=1, min_samples_split=18, n_estimators=610;, score=0.750 total time=   1.2s\n",
      "[CV 1/5; 6/20] START max_depth=3, min_samples_leaf=15, min_samples_split=4, n_estimators=610\n",
      "[CV 1/5; 6/20] END max_depth=3, min_samples_leaf=15, min_samples_split=4, n_estimators=610;, score=0.816 total time=   1.5s\n",
      "[CV 2/5; 6/20] START max_depth=3, min_samples_leaf=15, min_samples_split=4, n_estimators=610\n",
      "[CV 2/5; 6/20] END max_depth=3, min_samples_leaf=15, min_samples_split=4, n_estimators=610;, score=0.837 total time=   1.3s\n",
      "[CV 3/5; 6/20] START max_depth=3, min_samples_leaf=15, min_samples_split=4, n_estimators=610\n",
      "[CV 3/5; 6/20] END max_depth=3, min_samples_leaf=15, min_samples_split=4, n_estimators=610;, score=0.812 total time=   1.1s\n",
      "[CV 4/5; 6/20] START max_depth=3, min_samples_leaf=15, min_samples_split=4, n_estimators=610\n",
      "[CV 4/5; 6/20] END max_depth=3, min_samples_leaf=15, min_samples_split=4, n_estimators=610;, score=0.812 total time=   0.9s\n",
      "[CV 5/5; 6/20] START max_depth=3, min_samples_leaf=15, min_samples_split=4, n_estimators=610\n",
      "[CV 5/5; 6/20] END max_depth=3, min_samples_leaf=15, min_samples_split=4, n_estimators=610;, score=0.792 total time=   1.0s\n",
      "[CV 1/5; 7/20] START max_depth=10, min_samples_leaf=3, min_samples_split=16, n_estimators=710\n",
      "[CV 1/5; 7/20] END max_depth=10, min_samples_leaf=3, min_samples_split=16, n_estimators=710;, score=0.816 total time=   1.4s\n",
      "[CV 2/5; 7/20] START max_depth=10, min_samples_leaf=3, min_samples_split=16, n_estimators=710\n",
      "[CV 2/5; 7/20] END max_depth=10, min_samples_leaf=3, min_samples_split=16, n_estimators=710;, score=0.857 total time=   1.6s\n",
      "[CV 3/5; 7/20] START max_depth=10, min_samples_leaf=3, min_samples_split=16, n_estimators=710\n",
      "[CV 3/5; 7/20] END max_depth=10, min_samples_leaf=3, min_samples_split=16, n_estimators=710;, score=0.792 total time=   1.5s\n",
      "[CV 4/5; 7/20] START max_depth=10, min_samples_leaf=3, min_samples_split=16, n_estimators=710\n",
      "[CV 4/5; 7/20] END max_depth=10, min_samples_leaf=3, min_samples_split=16, n_estimators=710;, score=0.833 total time=   1.3s\n",
      "[CV 5/5; 7/20] START max_depth=10, min_samples_leaf=3, min_samples_split=16, n_estimators=710\n",
      "[CV 5/5; 7/20] END max_depth=10, min_samples_leaf=3, min_samples_split=16, n_estimators=710;, score=0.750 total time=   1.4s\n",
      "[CV 1/5; 8/20] START max_depth=10, min_samples_leaf=9, min_samples_split=16, n_estimators=260\n",
      "[CV 1/5; 8/20] END max_depth=10, min_samples_leaf=9, min_samples_split=16, n_estimators=260;, score=0.816 total time=   0.5s\n",
      "[CV 2/5; 8/20] START max_depth=10, min_samples_leaf=9, min_samples_split=16, n_estimators=260\n",
      "[CV 2/5; 8/20] END max_depth=10, min_samples_leaf=9, min_samples_split=16, n_estimators=260;, score=0.857 total time=   0.5s\n",
      "[CV 3/5; 8/20] START max_depth=10, min_samples_leaf=9, min_samples_split=16, n_estimators=260\n"
     ]
    },
    {
     "name": "stdout",
     "output_type": "stream",
     "text": [
      "[CV 3/5; 8/20] END max_depth=10, min_samples_leaf=9, min_samples_split=16, n_estimators=260;, score=0.792 total time=   0.3s\n",
      "[CV 4/5; 8/20] START max_depth=10, min_samples_leaf=9, min_samples_split=16, n_estimators=260\n",
      "[CV 4/5; 8/20] END max_depth=10, min_samples_leaf=9, min_samples_split=16, n_estimators=260;, score=0.833 total time=   0.6s\n",
      "[CV 5/5; 8/20] START max_depth=10, min_samples_leaf=9, min_samples_split=16, n_estimators=260\n",
      "[CV 5/5; 8/20] END max_depth=10, min_samples_leaf=9, min_samples_split=16, n_estimators=260;, score=0.750 total time=   0.4s\n",
      "[CV 1/5; 9/20] START max_depth=None, min_samples_leaf=5, min_samples_split=12, n_estimators=310\n",
      "[CV 1/5; 9/20] END max_depth=None, min_samples_leaf=5, min_samples_split=12, n_estimators=310;, score=0.816 total time=   0.6s\n",
      "[CV 2/5; 9/20] START max_depth=None, min_samples_leaf=5, min_samples_split=12, n_estimators=310\n",
      "[CV 2/5; 9/20] END max_depth=None, min_samples_leaf=5, min_samples_split=12, n_estimators=310;, score=0.837 total time=   0.5s\n",
      "[CV 3/5; 9/20] START max_depth=None, min_samples_leaf=5, min_samples_split=12, n_estimators=310\n",
      "[CV 3/5; 9/20] END max_depth=None, min_samples_leaf=5, min_samples_split=12, n_estimators=310;, score=0.792 total time=   0.6s\n",
      "[CV 4/5; 9/20] START max_depth=None, min_samples_leaf=5, min_samples_split=12, n_estimators=310\n",
      "[CV 4/5; 9/20] END max_depth=None, min_samples_leaf=5, min_samples_split=12, n_estimators=310;, score=0.833 total time=   0.6s\n",
      "[CV 5/5; 9/20] START max_depth=None, min_samples_leaf=5, min_samples_split=12, n_estimators=310\n",
      "[CV 5/5; 9/20] END max_depth=None, min_samples_leaf=5, min_samples_split=12, n_estimators=310;, score=0.771 total time=   0.5s\n",
      "[CV 1/5; 10/20] START max_depth=5, min_samples_leaf=19, min_samples_split=12, n_estimators=710\n",
      "[CV 1/5; 10/20] END max_depth=5, min_samples_leaf=19, min_samples_split=12, n_estimators=710;, score=0.796 total time=   1.4s\n",
      "[CV 2/5; 10/20] START max_depth=5, min_samples_leaf=19, min_samples_split=12, n_estimators=710\n",
      "[CV 2/5; 10/20] END max_depth=5, min_samples_leaf=19, min_samples_split=12, n_estimators=710;, score=0.857 total time=   1.5s\n",
      "[CV 3/5; 10/20] START max_depth=5, min_samples_leaf=19, min_samples_split=12, n_estimators=710\n",
      "[CV 3/5; 10/20] END max_depth=5, min_samples_leaf=19, min_samples_split=12, n_estimators=710;, score=0.812 total time=   1.3s\n",
      "[CV 4/5; 10/20] START max_depth=5, min_samples_leaf=19, min_samples_split=12, n_estimators=710\n",
      "[CV 4/5; 10/20] END max_depth=5, min_samples_leaf=19, min_samples_split=12, n_estimators=710;, score=0.833 total time=   1.6s\n",
      "[CV 5/5; 10/20] START max_depth=5, min_samples_leaf=19, min_samples_split=12, n_estimators=710\n",
      "[CV 5/5; 10/20] END max_depth=5, min_samples_leaf=19, min_samples_split=12, n_estimators=710;, score=0.771 total time=   1.4s\n",
      "[CV 1/5; 11/20] START max_depth=5, min_samples_leaf=9, min_samples_split=12, n_estimators=310\n",
      "[CV 1/5; 11/20] END max_depth=5, min_samples_leaf=9, min_samples_split=12, n_estimators=310;, score=0.816 total time=   0.5s\n",
      "[CV 2/5; 11/20] START max_depth=5, min_samples_leaf=9, min_samples_split=12, n_estimators=310\n",
      "[CV 2/5; 11/20] END max_depth=5, min_samples_leaf=9, min_samples_split=12, n_estimators=310;, score=0.816 total time=   0.5s\n",
      "[CV 3/5; 11/20] START max_depth=5, min_samples_leaf=9, min_samples_split=12, n_estimators=310\n",
      "[CV 3/5; 11/20] END max_depth=5, min_samples_leaf=9, min_samples_split=12, n_estimators=310;, score=0.792 total time=   0.6s\n",
      "[CV 4/5; 11/20] START max_depth=5, min_samples_leaf=9, min_samples_split=12, n_estimators=310\n",
      "[CV 4/5; 11/20] END max_depth=5, min_samples_leaf=9, min_samples_split=12, n_estimators=310;, score=0.833 total time=   0.5s\n",
      "[CV 5/5; 11/20] START max_depth=5, min_samples_leaf=9, min_samples_split=12, n_estimators=310\n",
      "[CV 5/5; 11/20] END max_depth=5, min_samples_leaf=9, min_samples_split=12, n_estimators=310;, score=0.792 total time=   0.5s\n",
      "[CV 1/5; 12/20] START max_depth=10, min_samples_leaf=1, min_samples_split=18, n_estimators=910\n",
      "[CV 1/5; 12/20] END max_depth=10, min_samples_leaf=1, min_samples_split=18, n_estimators=910;, score=0.816 total time=   2.1s\n",
      "[CV 2/5; 12/20] START max_depth=10, min_samples_leaf=1, min_samples_split=18, n_estimators=910\n",
      "[CV 2/5; 12/20] END max_depth=10, min_samples_leaf=1, min_samples_split=18, n_estimators=910;, score=0.857 total time=   1.7s\n",
      "[CV 3/5; 12/20] START max_depth=10, min_samples_leaf=1, min_samples_split=18, n_estimators=910\n",
      "[CV 3/5; 12/20] END max_depth=10, min_samples_leaf=1, min_samples_split=18, n_estimators=910;, score=0.792 total time=   1.9s\n",
      "[CV 4/5; 12/20] START max_depth=10, min_samples_leaf=1, min_samples_split=18, n_estimators=910\n",
      "[CV 4/5; 12/20] END max_depth=10, min_samples_leaf=1, min_samples_split=18, n_estimators=910;, score=0.812 total time=   1.7s\n",
      "[CV 5/5; 12/20] START max_depth=10, min_samples_leaf=1, min_samples_split=18, n_estimators=910\n",
      "[CV 5/5; 12/20] END max_depth=10, min_samples_leaf=1, min_samples_split=18, n_estimators=910;, score=0.750 total time=   1.9s\n",
      "[CV 1/5; 13/20] START max_depth=10, min_samples_leaf=9, min_samples_split=12, n_estimators=560\n",
      "[CV 1/5; 13/20] END max_depth=10, min_samples_leaf=9, min_samples_split=12, n_estimators=560;, score=0.796 total time=   1.3s\n",
      "[CV 2/5; 13/20] START max_depth=10, min_samples_leaf=9, min_samples_split=12, n_estimators=560\n",
      "[CV 2/5; 13/20] END max_depth=10, min_samples_leaf=9, min_samples_split=12, n_estimators=560;, score=0.837 total time=   1.2s\n",
      "[CV 3/5; 13/20] START max_depth=10, min_samples_leaf=9, min_samples_split=12, n_estimators=560\n",
      "[CV 3/5; 13/20] END max_depth=10, min_samples_leaf=9, min_samples_split=12, n_estimators=560;, score=0.792 total time=   1.0s\n",
      "[CV 4/5; 13/20] START max_depth=10, min_samples_leaf=9, min_samples_split=12, n_estimators=560\n",
      "[CV 4/5; 13/20] END max_depth=10, min_samples_leaf=9, min_samples_split=12, n_estimators=560;, score=0.833 total time=   1.2s\n",
      "[CV 5/5; 13/20] START max_depth=10, min_samples_leaf=9, min_samples_split=12, n_estimators=560\n",
      "[CV 5/5; 13/20] END max_depth=10, min_samples_leaf=9, min_samples_split=12, n_estimators=560;, score=0.771 total time=   1.0s\n",
      "[CV 1/5; 14/20] START max_depth=3, min_samples_leaf=19, min_samples_split=4, n_estimators=210\n",
      "[CV 1/5; 14/20] END max_depth=3, min_samples_leaf=19, min_samples_split=4, n_estimators=210;, score=0.837 total time=   0.4s\n",
      "[CV 2/5; 14/20] START max_depth=3, min_samples_leaf=19, min_samples_split=4, n_estimators=210\n",
      "[CV 2/5; 14/20] END max_depth=3, min_samples_leaf=19, min_samples_split=4, n_estimators=210;, score=0.837 total time=   0.2s\n",
      "[CV 3/5; 14/20] START max_depth=3, min_samples_leaf=19, min_samples_split=4, n_estimators=210\n",
      "[CV 3/5; 14/20] END max_depth=3, min_samples_leaf=19, min_samples_split=4, n_estimators=210;, score=0.812 total time=   0.3s\n",
      "[CV 4/5; 14/20] START max_depth=3, min_samples_leaf=19, min_samples_split=4, n_estimators=210\n",
      "[CV 4/5; 14/20] END max_depth=3, min_samples_leaf=19, min_samples_split=4, n_estimators=210;, score=0.833 total time=   0.4s\n",
      "[CV 5/5; 14/20] START max_depth=3, min_samples_leaf=19, min_samples_split=4, n_estimators=210\n",
      "[CV 5/5; 14/20] END max_depth=3, min_samples_leaf=19, min_samples_split=4, n_estimators=210;, score=0.833 total time=   0.4s\n",
      "[CV 1/5; 15/20] START max_depth=3, min_samples_leaf=15, min_samples_split=12, n_estimators=560\n",
      "[CV 1/5; 15/20] END max_depth=3, min_samples_leaf=15, min_samples_split=12, n_estimators=560;, score=0.837 total time=   1.1s\n",
      "[CV 2/5; 15/20] START max_depth=3, min_samples_leaf=15, min_samples_split=12, n_estimators=560\n",
      "[CV 2/5; 15/20] END max_depth=3, min_samples_leaf=15, min_samples_split=12, n_estimators=560;, score=0.878 total time=   1.0s\n",
      "[CV 3/5; 15/20] START max_depth=3, min_samples_leaf=15, min_samples_split=12, n_estimators=560\n",
      "[CV 3/5; 15/20] END max_depth=3, min_samples_leaf=15, min_samples_split=12, n_estimators=560;, score=0.812 total time=   1.2s\n",
      "[CV 4/5; 15/20] START max_depth=3, min_samples_leaf=15, min_samples_split=12, n_estimators=560\n",
      "[CV 4/5; 15/20] END max_depth=3, min_samples_leaf=15, min_samples_split=12, n_estimators=560;, score=0.833 total time=   1.1s\n",
      "[CV 5/5; 15/20] START max_depth=3, min_samples_leaf=15, min_samples_split=12, n_estimators=560\n",
      "[CV 5/5; 15/20] END max_depth=3, min_samples_leaf=15, min_samples_split=12, n_estimators=560;, score=0.792 total time=   0.9s\n",
      "[CV 1/5; 16/20] START max_depth=3, min_samples_leaf=13, min_samples_split=4, n_estimators=960\n"
     ]
    },
    {
     "name": "stdout",
     "output_type": "stream",
     "text": [
      "[CV 1/5; 16/20] END max_depth=3, min_samples_leaf=13, min_samples_split=4, n_estimators=960;, score=0.816 total time=   1.8s\n",
      "[CV 2/5; 16/20] START max_depth=3, min_samples_leaf=13, min_samples_split=4, n_estimators=960\n",
      "[CV 2/5; 16/20] END max_depth=3, min_samples_leaf=13, min_samples_split=4, n_estimators=960;, score=0.837 total time=   2.0s\n",
      "[CV 3/5; 16/20] START max_depth=3, min_samples_leaf=13, min_samples_split=4, n_estimators=960\n",
      "[CV 3/5; 16/20] END max_depth=3, min_samples_leaf=13, min_samples_split=4, n_estimators=960;, score=0.812 total time=   1.9s\n",
      "[CV 4/5; 16/20] START max_depth=3, min_samples_leaf=13, min_samples_split=4, n_estimators=960\n",
      "[CV 4/5; 16/20] END max_depth=3, min_samples_leaf=13, min_samples_split=4, n_estimators=960;, score=0.854 total time=   2.1s\n",
      "[CV 5/5; 16/20] START max_depth=3, min_samples_leaf=13, min_samples_split=4, n_estimators=960\n",
      "[CV 5/5; 16/20] END max_depth=3, min_samples_leaf=13, min_samples_split=4, n_estimators=960;, score=0.792 total time=   2.2s\n",
      "[CV 1/5; 17/20] START max_depth=None, min_samples_leaf=1, min_samples_split=14, n_estimators=510\n",
      "[CV 1/5; 17/20] END max_depth=None, min_samples_leaf=1, min_samples_split=14, n_estimators=510;, score=0.816 total time=   1.0s\n",
      "[CV 2/5; 17/20] START max_depth=None, min_samples_leaf=1, min_samples_split=14, n_estimators=510\n",
      "[CV 2/5; 17/20] END max_depth=None, min_samples_leaf=1, min_samples_split=14, n_estimators=510;, score=0.816 total time=   0.9s\n",
      "[CV 3/5; 17/20] START max_depth=None, min_samples_leaf=1, min_samples_split=14, n_estimators=510\n",
      "[CV 3/5; 17/20] END max_depth=None, min_samples_leaf=1, min_samples_split=14, n_estimators=510;, score=0.792 total time=   0.9s\n",
      "[CV 4/5; 17/20] START max_depth=None, min_samples_leaf=1, min_samples_split=14, n_estimators=510\n",
      "[CV 4/5; 17/20] END max_depth=None, min_samples_leaf=1, min_samples_split=14, n_estimators=510;, score=0.812 total time=   1.0s\n",
      "[CV 5/5; 17/20] START max_depth=None, min_samples_leaf=1, min_samples_split=14, n_estimators=510\n",
      "[CV 5/5; 17/20] END max_depth=None, min_samples_leaf=1, min_samples_split=14, n_estimators=510;, score=0.771 total time=   1.1s\n",
      "[CV 1/5; 18/20] START max_depth=None, min_samples_leaf=19, min_samples_split=8, n_estimators=260\n",
      "[CV 1/5; 18/20] END max_depth=None, min_samples_leaf=19, min_samples_split=8, n_estimators=260;, score=0.796 total time=   0.5s\n",
      "[CV 2/5; 18/20] START max_depth=None, min_samples_leaf=19, min_samples_split=8, n_estimators=260\n",
      "[CV 2/5; 18/20] END max_depth=None, min_samples_leaf=19, min_samples_split=8, n_estimators=260;, score=0.816 total time=   0.4s\n",
      "[CV 3/5; 18/20] START max_depth=None, min_samples_leaf=19, min_samples_split=8, n_estimators=260\n",
      "[CV 3/5; 18/20] END max_depth=None, min_samples_leaf=19, min_samples_split=8, n_estimators=260;, score=0.833 total time=   0.4s\n",
      "[CV 4/5; 18/20] START max_depth=None, min_samples_leaf=19, min_samples_split=8, n_estimators=260\n",
      "[CV 4/5; 18/20] END max_depth=None, min_samples_leaf=19, min_samples_split=8, n_estimators=260;, score=0.812 total time=   0.4s\n",
      "[CV 5/5; 18/20] START max_depth=None, min_samples_leaf=19, min_samples_split=8, n_estimators=260\n",
      "[CV 5/5; 18/20] END max_depth=None, min_samples_leaf=19, min_samples_split=8, n_estimators=260;, score=0.771 total time=   0.4s\n",
      "[CV 1/5; 19/20] START max_depth=None, min_samples_leaf=9, min_samples_split=6, n_estimators=460\n",
      "[CV 1/5; 19/20] END max_depth=None, min_samples_leaf=9, min_samples_split=6, n_estimators=460;, score=0.796 total time=   0.8s\n",
      "[CV 2/5; 19/20] START max_depth=None, min_samples_leaf=9, min_samples_split=6, n_estimators=460\n",
      "[CV 2/5; 19/20] END max_depth=None, min_samples_leaf=9, min_samples_split=6, n_estimators=460;, score=0.857 total time=   0.8s\n",
      "[CV 3/5; 19/20] START max_depth=None, min_samples_leaf=9, min_samples_split=6, n_estimators=460\n",
      "[CV 3/5; 19/20] END max_depth=None, min_samples_leaf=9, min_samples_split=6, n_estimators=460;, score=0.792 total time=   1.0s\n",
      "[CV 4/5; 19/20] START max_depth=None, min_samples_leaf=9, min_samples_split=6, n_estimators=460\n",
      "[CV 4/5; 19/20] END max_depth=None, min_samples_leaf=9, min_samples_split=6, n_estimators=460;, score=0.833 total time=   0.8s\n",
      "[CV 5/5; 19/20] START max_depth=None, min_samples_leaf=9, min_samples_split=6, n_estimators=460\n",
      "[CV 5/5; 19/20] END max_depth=None, min_samples_leaf=9, min_samples_split=6, n_estimators=460;, score=0.812 total time=   0.8s\n",
      "[CV 1/5; 20/20] START max_depth=3, min_samples_leaf=7, min_samples_split=6, n_estimators=560\n",
      "[CV 1/5; 20/20] END max_depth=3, min_samples_leaf=7, min_samples_split=6, n_estimators=560;, score=0.816 total time=   1.0s\n",
      "[CV 2/5; 20/20] START max_depth=3, min_samples_leaf=7, min_samples_split=6, n_estimators=560\n",
      "[CV 2/5; 20/20] END max_depth=3, min_samples_leaf=7, min_samples_split=6, n_estimators=560;, score=0.837 total time=   1.0s\n",
      "[CV 3/5; 20/20] START max_depth=3, min_samples_leaf=7, min_samples_split=6, n_estimators=560\n",
      "[CV 3/5; 20/20] END max_depth=3, min_samples_leaf=7, min_samples_split=6, n_estimators=560;, score=0.792 total time=   1.1s\n",
      "[CV 4/5; 20/20] START max_depth=3, min_samples_leaf=7, min_samples_split=6, n_estimators=560\n",
      "[CV 4/5; 20/20] END max_depth=3, min_samples_leaf=7, min_samples_split=6, n_estimators=560;, score=0.833 total time=   1.0s\n",
      "[CV 5/5; 20/20] START max_depth=3, min_samples_leaf=7, min_samples_split=6, n_estimators=560\n",
      "[CV 5/5; 20/20] END max_depth=3, min_samples_leaf=7, min_samples_split=6, n_estimators=560;, score=0.771 total time=   0.9s\n"
     ]
    },
    {
     "data": {
      "text/plain": [
       "RandomizedSearchCV(cv=5, estimator=RandomForestClassifier(), n_iter=20,\n",
       "                   param_distributions={'max_depth': [None, 3, 5, 10],\n",
       "                                        'min_samples_leaf': array([ 1,  3,  5,  7,  9, 11, 13, 15, 17, 19]),\n",
       "                                        'min_samples_split': array([ 2,  4,  6,  8, 10, 12, 14, 16, 18]),\n",
       "                                        'n_estimators': array([ 10,  60, 110, 160, 210, 260, 310, 360, 410, 460, 510, 560, 610,\n",
       "       660, 710, 760, 810, 860, 910, 960])},\n",
       "                   verbose=20)"
      ]
     },
     "execution_count": 58,
     "metadata": {},
     "output_type": "execute_result"
    }
   ],
   "source": [
    "np.random.seed(42)\n",
    "# setup random hyperpameter search for random forest\n",
    "\n",
    "rs = RandomizedSearchCV(RandomForestClassifier(),\n",
    "                                param_distributions=rf_grid,\n",
    "                                cv=5,\n",
    "                                n_iter=20,\n",
    "                                verbose=20\n",
    "                               )\n",
    "rs.fit(X_train,y_train)"
   ]
  },
  {
   "cell_type": "code",
   "execution_count": 59,
   "id": "299e7aab",
   "metadata": {},
   "outputs": [
    {
     "data": {
      "text/plain": [
       "{'n_estimators': 210,\n",
       " 'min_samples_split': 4,\n",
       " 'min_samples_leaf': 19,\n",
       " 'max_depth': 3}"
      ]
     },
     "execution_count": 59,
     "metadata": {},
     "output_type": "execute_result"
    }
   ],
   "source": [
    "rs.best_params_"
   ]
  },
  {
   "cell_type": "code",
   "execution_count": 60,
   "id": "49dda868",
   "metadata": {},
   "outputs": [
    {
     "data": {
      "text/plain": [
       "0.8688524590163934"
      ]
     },
     "execution_count": 60,
     "metadata": {},
     "output_type": "execute_result"
    }
   ],
   "source": [
    "rs.score(X_test,y_test)"
   ]
  },
  {
   "cell_type": "markdown",
   "id": "f91b201a",
   "metadata": {},
   "source": [
    "## Hyperparamter Tuning with GridSearchCV\n",
    "Since our LogisticRegression model provides the best scores so far, we'll try and improve them again using GridSearchCV..."
   ]
  },
  {
   "cell_type": "code",
   "execution_count": 63,
   "id": "d7fe0d0c",
   "metadata": {},
   "outputs": [
    {
     "name": "stdout",
     "output_type": "stream",
     "text": [
      "Fitting 5 folds for each of 20 candidates, totalling 100 fits\n"
     ]
    },
    {
     "data": {
      "text/plain": [
       "GridSearchCV(cv=5, estimator=LogisticRegression(),\n",
       "             param_grid={'C': array([1.00000000e-04, 2.63665090e-04, 6.95192796e-04, 1.83298071e-03,\n",
       "       4.83293024e-03, 1.27427499e-02, 3.35981829e-02, 8.85866790e-02,\n",
       "       2.33572147e-01, 6.15848211e-01, 1.62377674e+00, 4.28133240e+00,\n",
       "       1.12883789e+01, 2.97635144e+01, 7.84759970e+01, 2.06913808e+02,\n",
       "       5.45559478e+02, 1.43844989e+03, 3.79269019e+03, 1.00000000e+04]),\n",
       "                         'solver': ['liblinear']},\n",
       "             verbose=True)"
      ]
     },
     "execution_count": 63,
     "metadata": {},
     "output_type": "execute_result"
    }
   ],
   "source": [
    "# set up for hyperparameter tuning with logistic regression\n",
    "gs_log_res = GridSearchCV(LogisticRegression(),\n",
    "                         param_grid=log_reg_grid,\n",
    "                          cv=5,\n",
    "                          verbose=True\n",
    "                         )\n",
    "gs_log_res.fit(X_train,y_train)"
   ]
  },
  {
   "cell_type": "code",
   "execution_count": 64,
   "id": "bea5708f",
   "metadata": {},
   "outputs": [
    {
     "data": {
      "text/plain": [
       "{'C': 0.23357214690901212, 'solver': 'liblinear'}"
      ]
     },
     "execution_count": 64,
     "metadata": {},
     "output_type": "execute_result"
    }
   ],
   "source": [
    "gs_log_res.best_params_"
   ]
  },
  {
   "cell_type": "code",
   "execution_count": 65,
   "id": "806b22ad",
   "metadata": {},
   "outputs": [
    {
     "data": {
      "text/plain": [
       "0.8852459016393442"
      ]
     },
     "execution_count": 65,
     "metadata": {},
     "output_type": "execute_result"
    }
   ],
   "source": [
    "gs_log_res.score(X_test,y_test)"
   ]
  },
  {
   "cell_type": "markdown",
   "id": "460a52b5",
   "metadata": {},
   "source": [
    "Evaluting our tuned machine learning classifier, beyond accuracy\n",
    "\n",
    "* ROC curve and AUC score\n",
    "* Confusion matrix\n",
    "* Classification report\n",
    "* Precision\n",
    "* Recall\n",
    "* F1-score\n",
    "\n",
    "... and it would be great if cross-validation was used where possible.\n",
    "\n",
    "To make comparisons and evaluate our trained model, first we need to make predictions."
   ]
  },
  {
   "cell_type": "code",
   "execution_count": 66,
   "id": "12e6c234",
   "metadata": {},
   "outputs": [],
   "source": [
    "y_preds = gs_log_res.predict(X_test)"
   ]
  },
  {
   "cell_type": "code",
   "execution_count": 67,
   "id": "1d225c23",
   "metadata": {},
   "outputs": [
    {
     "data": {
      "text/plain": [
       "array([0, 1, 1, 0, 1, 1, 1, 0, 0, 1, 1, 0, 1, 0, 1, 1, 1, 0, 0, 0, 1, 0,\n",
       "       0, 1, 1, 1, 1, 1, 0, 1, 0, 0, 0, 0, 1, 0, 1, 1, 1, 1, 1, 1, 1, 1,\n",
       "       1, 0, 1, 1, 0, 0, 0, 0, 1, 1, 0, 0, 0, 1, 0, 0, 0], dtype=int64)"
      ]
     },
     "execution_count": 67,
     "metadata": {},
     "output_type": "execute_result"
    }
   ],
   "source": [
    "y_preds"
   ]
  },
  {
   "cell_type": "code",
   "execution_count": 68,
   "id": "601d5285",
   "metadata": {},
   "outputs": [
    {
     "data": {
      "text/plain": [
       "179    0\n",
       "228    0\n",
       "111    1\n",
       "246    0\n",
       "60     1\n",
       "      ..\n",
       "249    0\n",
       "104    1\n",
       "300    0\n",
       "193    0\n",
       "184    0\n",
       "Name: target, Length: 61, dtype: int64"
      ]
     },
     "execution_count": 68,
     "metadata": {},
     "output_type": "execute_result"
    }
   ],
   "source": [
    "y_test"
   ]
  },
  {
   "cell_type": "code",
   "execution_count": 69,
   "id": "95866aa0",
   "metadata": {},
   "outputs": [
    {
     "name": "stderr",
     "output_type": "stream",
     "text": [
      "F:\\machine_learning\\heart-disese-project\\env\\lib\\site-packages\\sklearn\\utils\\deprecation.py:87: FutureWarning: Function plot_roc_curve is deprecated; Function :func:`plot_roc_curve` is deprecated in 1.0 and will be removed in 1.2. Use one of the class methods: :meth:`sklearn.metric.RocCurveDisplay.from_predictions` or :meth:`sklearn.metric.RocCurveDisplay.from_estimator`.\n",
      "  warnings.warn(msg, category=FutureWarning)\n"
     ]
    },
    {
     "data": {
      "image/png": "[encoded data removed]",
      "text/plain": [
       "<Figure size 432x288 with 1 Axes>"
      ]
     },
     "metadata": {
      "needs_background": "light"
     },
     "output_type": "display_data"
    }
   ],
   "source": [
    "# plot ROC curve and calculate and calculate AUC metric\n",
    "plot_roc_curve(gs_log_res,X_test,y_test);"
   ]
  },
  {
   "cell_type": "code",
   "execution_count": 70,
   "id": "64831a76",
   "metadata": {},
   "outputs": [
    {
     "name": "stdout",
     "output_type": "stream",
     "text": [
      "[[25  4]\n",
      " [ 3 29]]\n"
     ]
    }
   ],
   "source": [
    "# confusion matrix\n",
    "print(confusion_matrix(y_test,y_preds))"
   ]
  },
  {
   "cell_type": "code",
   "execution_count": 73,
   "id": "f450a5ac",
   "metadata": {},
   "outputs": [
    {
     "data": {
      "image/png": "[encoded data removed]",
      "text/plain": [
       "<Figure size 216x216 with 1 Axes>"
      ]
     },
     "metadata": {},
     "output_type": "display_data"
    }
   ],
   "source": [
    "sns.set(font_scale= 1.5)\n",
    "def plot_conf_mat(y_test,y_preds):\n",
    "    \"\"\"\n",
    "    Plots a nice looking confusion matrix using Seaborn's heatmap()\n",
    "    \"\"\"\n",
    "    fig,ax = plt.subplots(figsize=(3,3))\n",
    "    ax = sns.heatmap(confusion_matrix(y_test,y_preds),\n",
    "                      annot=True,\n",
    "                    cbar=False)\n",
    "    plt.xlabel(\"Predicted Label\")\n",
    "    plt.ylabel(\"True Label\")\n",
    "\n",
    "plot_conf_mat(y_test,y_preds)"
   ]
  },
  {
   "cell_type": "markdown",
   "id": "b7fb5479",
   "metadata": {},
   "source": [
    "Now we've got a ROC curve, an AUC metric and a confusion matrix, let's get a classification report as well as cross-validated precision, recall and f1-score."
   ]
  },
  {
   "cell_type": "code",
   "execution_count": 74,
   "id": "670b82f3",
   "metadata": {},
   "outputs": [
    {
     "name": "stdout",
     "output_type": "stream",
     "text": [
      "              precision    recall  f1-score   support\n",
      "\n",
      "           0       0.89      0.86      0.88        29\n",
      "           1       0.88      0.91      0.89        32\n",
      "\n",
      "    accuracy                           0.89        61\n",
      "   macro avg       0.89      0.88      0.88        61\n",
      "weighted avg       0.89      0.89      0.89        61\n",
      "\n"
     ]
    }
   ],
   "source": [
    "print(classification_report(y_test, y_preds))"
   ]
  },
  {
   "cell_type": "markdown",
   "id": "e03af9b7",
   "metadata": {},
   "source": [
    "## Calculate evaluation metrics using cross-validation\n",
    "We're going to calculate accuracy, precision, recall and f1-score of our model using cross-validation and to do so we'll be using cross_val_score()"
   ]
  },
  {
   "cell_type": "code",
   "execution_count": 77,
   "id": "7ba972a2",
   "metadata": {},
   "outputs": [
    {
     "data": {
      "text/plain": [
       "{'C': 0.23357214690901212, 'solver': 'liblinear'}"
      ]
     },
     "execution_count": 77,
     "metadata": {},
     "output_type": "execute_result"
    }
   ],
   "source": [
    "#  check best hyperparameters\n",
    "gs_log_res.best_params_"
   ]
  },
  {
   "cell_type": "code",
   "execution_count": 79,
   "id": "95b7e1cd",
   "metadata": {},
   "outputs": [],
   "source": [
    "#  create a new classifier with best parmaeters\n",
    "clf = LogisticRegression(C=0.23357214690901212,\n",
    "                        solver=\"liblinear\")"
   ]
  },
  {
   "cell_type": "code",
   "execution_count": 82,
   "id": "c5a786fe",
   "metadata": {},
   "outputs": [
    {
     "data": {
      "text/plain": [
       "array([0.81967213, 0.90163934, 0.8852459 , 0.88333333, 0.75      ])"
      ]
     },
     "execution_count": 82,
     "metadata": {},
     "output_type": "execute_result"
    }
   ],
   "source": [
    "# cross-validated accuracy\n",
    "cv_acc = cross_val_score(clf,\n",
    "                        X,\n",
    "                        y,\n",
    "                        cv=5,\n",
    "                        scoring=\"accuracy\")\n",
    "cv_acc"
   ]
  },
  {
   "cell_type": "code",
   "execution_count": 83,
   "id": "1f21cdd9",
   "metadata": {},
   "outputs": [
    {
     "data": {
      "text/plain": [
       "0.8479781420765027"
      ]
     },
     "execution_count": 83,
     "metadata": {},
     "output_type": "execute_result"
    }
   ],
   "source": [
    "cv_acc = np.mean(cv_acc)\n",
    "cv_acc"
   ]
  },
  {
   "cell_type": "code",
   "execution_count": 84,
   "id": "97365ba1",
   "metadata": {},
   "outputs": [
    {
     "data": {
      "text/plain": [
       "0.8215873015873015"
      ]
     },
     "execution_count": 84,
     "metadata": {},
     "output_type": "execute_result"
    }
   ],
   "source": [
    "# cross validates precison\n",
    "cv_precision = cross_val_score(clf,\n",
    "                         X,\n",
    "                         y,\n",
    "                         cv=5,\n",
    "                         scoring=\"precision\")\n",
    "cv_precision=np.mean(cv_precision)\n",
    "cv_precision"
   ]
  },
  {
   "cell_type": "code",
   "execution_count": 85,
   "id": "d948560e",
   "metadata": {},
   "outputs": [
    {
     "data": {
      "text/plain": [
       "0.9272727272727274"
      ]
     },
     "execution_count": 85,
     "metadata": {},
     "output_type": "execute_result"
    }
   ],
   "source": [
    "# cross -validated recall\n",
    "cv_recall = cross_val_score(clf,\n",
    "                         X,\n",
    "                         y,\n",
    "                         cv=5,\n",
    "                         scoring=\"recall\")\n",
    "cv_recall = np.mean(cv_recall)\n",
    "cv_recall"
   ]
  },
  {
   "cell_type": "code",
   "execution_count": 86,
   "id": "117c6982",
   "metadata": {},
   "outputs": [
    {
     "data": {
      "text/plain": [
       "0.8705403543192143"
      ]
     },
     "execution_count": 86,
     "metadata": {},
     "output_type": "execute_result"
    }
   ],
   "source": [
    "# Cross-validated f1-score\n",
    "cv_f1 = cross_val_score(clf,\n",
    "                         X,\n",
    "                         y,\n",
    "                         cv=5,\n",
    "                         scoring=\"f1\")\n",
    "cv_f1 = np.mean(cv_f1)\n",
    "cv_f1"
   ]
  },
  {
   "cell_type": "code",
   "execution_count": 87,
   "id": "82985b43",
   "metadata": {},
   "outputs": [
    {
     "data": {
      "image/png": "[encoded data removed]",
      "text/plain": [
       "<Figure size 432x288 with 1 Axes>"
      ]
     },
     "metadata": {},
     "output_type": "display_data"
    }
   ],
   "source": [
    "# Visualize cross-validated metrics\n",
    "cv_metrics = pd.DataFrame({\"Accuracy\": cv_acc,\n",
    "                           \"Precision\": cv_precision,\n",
    "                           \"Recall\": cv_recall,\n",
    "                           \"F1\": cv_f1},\n",
    "                          index=[0])\n",
    "\n",
    "cv_metrics.T.plot.bar(title=\"Cross-validated classification metrics\",\n",
    "                      legend=False);"
   ]
  },
  {
   "cell_type": "markdown",
   "id": "f1bb80b2",
   "metadata": {},
   "source": [
    "## Feature Importance\n",
    "Feature importance is another as asking, \"which features contributed most to the outcomes of the model and how did they contribute?\"\n",
    "\n",
    "Finding feature importance is different for each machine learning model. One way to find feature importance is to search for \"(MODEL NAME) feature importance\".\n",
    "\n",
    "Let's find the feature importance for our LogisticRegression model..."
   ]
  },
  {
   "cell_type": "code",
   "execution_count": 88,
   "id": "94bd814f",
   "metadata": {},
   "outputs": [],
   "source": [
    "# Fit an instance of LogisticRegression\n",
    "clf = LogisticRegression(C=0.20433597178569418,\n",
    "                         solver=\"liblinear\")\n",
    "\n",
    "clf.fit(X_train, y_train);"
   ]
  },
  {
   "cell_type": "code",
   "execution_count": 89,
   "id": "e5eb8f39",
   "metadata": {},
   "outputs": [
    {
     "data": {
      "text/plain": [
       "array([[ 0.00316728, -0.86044651,  0.66067041, -0.01156993, -0.00166374,\n",
       "         0.04386107,  0.31275847,  0.02459361, -0.6041308 , -0.56862804,\n",
       "         0.45051628, -0.63609897, -0.67663373]])"
      ]
     },
     "execution_count": 89,
     "metadata": {},
     "output_type": "execute_result"
    }
   ],
   "source": [
    "# Check coef_\n",
    "clf.coef_"
   ]
  },
  {
   "cell_type": "code",
   "execution_count": 90,
   "id": "e0eb75bf",
   "metadata": {},
   "outputs": [
    {
     "data": {
      "text/plain": [
       "{'age': 0.0031672801993431563,\n",
       " 'sex': -0.8604465072345515,\n",
       " 'cp': 0.6606704082033799,\n",
       " 'trestbps': -0.01156993168080875,\n",
       " 'chol': -0.001663744504776871,\n",
       " 'fbs': 0.043861071652469864,\n",
       " 'restecg': 0.31275846822418324,\n",
       " 'thalach': 0.024593613737779126,\n",
       " 'exang': -0.6041308000615746,\n",
       " 'oldpeak': -0.5686280368396555,\n",
       " 'slope': 0.4505162797258308,\n",
       " 'ca': -0.6360989676086223,\n",
       " 'thal': -0.6766337263029825}"
      ]
     },
     "execution_count": 90,
     "metadata": {},
     "output_type": "execute_result"
    }
   ],
   "source": [
    "# Match coef's of features to columns\n",
    "feature_dict = dict(zip(df.columns, list(clf.coef_[0])))\n",
    "feature_dict"
   ]
  },
  {
   "cell_type": "code",
   "execution_count": 91,
   "id": "fc30e8af",
   "metadata": {},
   "outputs": [
    {
     "data": {
      "image/png": "[encoded data removed]",
      "text/plain": [
       "<Figure size 432x288 with 1 Axes>"
      ]
     },
     "metadata": {},
     "output_type": "display_data"
    }
   ],
   "source": [
    "# Visualize feature importance\n",
    "feature_df = pd.DataFrame(feature_dict, index=[0])\n",
    "feature_df.T.plot.bar(title=\"Feature Importance\", legend=False);"
   ]
  },
  {
   "cell_type": "code",
   "execution_count": 92,
   "id": "8221bf25",
   "metadata": {},
   "outputs": [
    {
     "data": {
      "text/html": [
       "<div>\n",
       "<style scoped>\n",
       "    .dataframe tbody tr th:only-of-type {\n",
       "        vertical-align: middle;\n",
       "    }\n",
       "\n",
       "    .dataframe tbody tr th {\n",
       "        vertical-align: top;\n",
       "    }\n",
       "\n",
       "    .dataframe thead th {\n",
       "        text-align: right;\n",
       "    }\n",
       "</style>\n",
       "<table border=\"1\" class=\"dataframe\">\n",
       "  <thead>\n",
       "    <tr style=\"text-align: right;\">\n",
       "      <th>target</th>\n",
       "      <th>0</th>\n",
       "      <th>1</th>\n",
       "    </tr>\n",
       "    <tr>\n",
       "      <th>sex</th>\n",
       "      <th></th>\n",
       "      <th></th>\n",
       "    </tr>\n",
       "  </thead>\n",
       "  <tbody>\n",
       "    <tr>\n",
       "      <th>0</th>\n",
       "      <td>24</td>\n",
       "      <td>72</td>\n",
       "    </tr>\n",
       "    <tr>\n",
       "      <th>1</th>\n",
       "      <td>114</td>\n",
       "      <td>93</td>\n",
       "    </tr>\n",
       "  </tbody>\n",
       "</table>\n",
       "</div>"
      ],
      "text/plain": [
       "target    0   1\n",
       "sex            \n",
       "0        24  72\n",
       "1       114  93"
      ]
     },
     "execution_count": 92,
     "metadata": {},
     "output_type": "execute_result"
    }
   ],
   "source": [
    "pd.crosstab(df[\"sex\"], df[\"target\"])"
   ]
  },
  {
   "cell_type": "code",
   "execution_count": 93,
   "id": "6d5ec60b",
   "metadata": {},
   "outputs": [
    {
     "data": {
      "text/html": [
       "<div>\n",
       "<style scoped>\n",
       "    .dataframe tbody tr th:only-of-type {\n",
       "        vertical-align: middle;\n",
       "    }\n",
       "\n",
       "    .dataframe tbody tr th {\n",
       "        vertical-align: top;\n",
       "    }\n",
       "\n",
       "    .dataframe thead th {\n",
       "        text-align: right;\n",
       "    }\n",
       "</style>\n",
       "<table border=\"1\" class=\"dataframe\">\n",
       "  <thead>\n",
       "    <tr style=\"text-align: right;\">\n",
       "      <th>target</th>\n",
       "      <th>0</th>\n",
       "      <th>1</th>\n",
       "    </tr>\n",
       "    <tr>\n",
       "      <th>slope</th>\n",
       "      <th></th>\n",
       "      <th></th>\n",
       "    </tr>\n",
       "  </thead>\n",
       "  <tbody>\n",
       "    <tr>\n",
       "      <th>0</th>\n",
       "      <td>12</td>\n",
       "      <td>9</td>\n",
       "    </tr>\n",
       "    <tr>\n",
       "      <th>1</th>\n",
       "      <td>91</td>\n",
       "      <td>49</td>\n",
       "    </tr>\n",
       "    <tr>\n",
       "      <th>2</th>\n",
       "      <td>35</td>\n",
       "      <td>107</td>\n",
       "    </tr>\n",
       "  </tbody>\n",
       "</table>\n",
       "</div>"
      ],
      "text/plain": [
       "target   0    1\n",
       "slope          \n",
       "0       12    9\n",
       "1       91   49\n",
       "2       35  107"
      ]
     },
     "execution_count": 93,
     "metadata": {},
     "output_type": "execute_result"
    }
   ],
   "source": [
    "pd.crosstab(df[\"slope\"], df[\"target\"])"
   ]
  },
  {
   "cell_type": "markdown",
   "id": "59844104",
   "metadata": {},
   "source": [
    "slope - the slope of the peak exercise ST segment\n",
    "\n",
    "* 0: Upsloping: better heart rate with excercise (uncommon)\n",
    "* 1: Flatsloping: minimal change (typical healthy heart)\n",
    "* 2: Downslopins: signs of unhealthy heart"
   ]
  },
  {
   "cell_type": "markdown",
   "id": "5d0f88b3",
   "metadata": {},
   "source": [
    "## 6. Experimentation\n",
    "If you haven't hit your evaluation metric yet... ask yourself...\n",
    "\n",
    "* Could you collect more data?\n",
    "* Could you try a better model? Like CatBoost or XGBoost?\n",
    "* Could you improve the current models? (beyond what we've done so far)\n",
    "* If your model is good enough (you have hit your evaluation metric) how would you export it and share it with others?"
   ]
  },
  {
   "cell_type": "code",
   "execution_count": null,
   "id": "9e50972a",
   "metadata": {},
   "outputs": [],
   "source": []
  }
 ],
 "metadata": {
  "kernelspec": {
   "display_name": "Python 3 (ipykernel)",
   "language": "python",
   "name": "python3"
  },
  "language_info": {
   "codemirror_mode": {
    "name": "ipython",
    "version": 3
   },
   "file_extension": ".py",
   "mimetype": "text/x-python",
   "name": "python",
   "nbconvert_exporter": "python",
   "pygments_lexer": "ipython3",
   "version": "3.9.12"
  }
 },
 "nbformat": 4,
 "nbformat_minor": 5
}
